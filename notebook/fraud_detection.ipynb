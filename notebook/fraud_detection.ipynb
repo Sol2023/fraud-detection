{
 "cells": [
  {
   "cell_type": "markdown",
   "metadata": {},
   "source": [
    "# 1. Packages"
   ]
  },
  {
   "cell_type": "code",
   "execution_count": 2,
   "metadata": {
    "ExecuteTime": {
     "end_time": "2024-03-15T20:23:22.917631Z",
     "start_time": "2024-03-15T20:23:18.331614Z"
    }
   },
   "outputs": [],
   "source": [
    "# Data clean\n",
    "import pandas as pd \n",
    "import numpy as np\n",
    "import json\n",
    "from functools import reduce\n",
    "\n",
    "# Plot\n",
    "import seaborn as sns\n",
    "import matplotlib.pyplot as plt\n",
    "\n",
    "# Model Train\n",
    "import pandas as pd\n",
    "from sklearn.model_selection import train_test_split\n",
    "from sklearn.metrics import f1_score,classification_report\n",
    "from sklearn.linear_model import LogisticRegression\n",
    "from sklearn.tree import DecisionTreeClassifier\n",
    "from sklearn.ensemble import RandomForestClassifier, GradientBoostingClassifier\n",
    "from sklearn.model_selection import train_test_split\n",
    "from sklearn.model_selection import RandomizedSearchCV\n",
    "from xgboost import XGBClassifier\n",
    "from lightgbm import LGBMClassifier\n",
    "\n",
    "# Model Analysis \n",
    "from pdpbox import pdp\n",
    "from pdpbox import pdp, get_example, info_plots\n",
    "\n",
    "# Model save and load\n",
    "import joblib\n",
    "\n",
    "# Other\n",
    "import warnings\n",
    "warnings.filterwarnings('ignore')\n"
   ]
  },
  {
   "cell_type": "markdown",
   "metadata": {},
   "source": [
    "# 2. Data Loading\n",
    "- Load .txt file and transfer to dataframe;\n",
    "- Check number of rows and columns \n",
    "- Check datatype\n",
    "- Statistic describe: mean, median, unique value, mode"
   ]
  },
  {
   "cell_type": "code",
   "execution_count": 3,
   "metadata": {
    "ExecuteTime": {
     "end_time": "2024-03-15T20:23:29.789726Z",
     "start_time": "2024-03-15T20:23:29.784175Z"
    }
   },
   "outputs": [],
   "source": [
    "file_path = '/Users/shouzhenghuang/fraud_dection/data/transactions.txt'"
   ]
  },
  {
   "cell_type": "code",
   "execution_count": 4,
   "metadata": {
    "ExecuteTime": {
     "end_time": "2024-03-15T20:23:58.975513Z",
     "start_time": "2024-03-15T20:23:30.475227Z"
    }
   },
   "outputs": [
    {
     "data": {
      "text/html": [
       "<div>\n",
       "<style scoped>\n",
       "    .dataframe tbody tr th:only-of-type {\n",
       "        vertical-align: middle;\n",
       "    }\n",
       "\n",
       "    .dataframe tbody tr th {\n",
       "        vertical-align: top;\n",
       "    }\n",
       "\n",
       "    .dataframe thead th {\n",
       "        text-align: right;\n",
       "    }\n",
       "</style>\n",
       "<table border=\"1\" class=\"dataframe\">\n",
       "  <thead>\n",
       "    <tr style=\"text-align: right;\">\n",
       "      <th></th>\n",
       "      <th>accountNumber</th>\n",
       "      <th>customerId</th>\n",
       "      <th>creditLimit</th>\n",
       "      <th>availableMoney</th>\n",
       "      <th>transactionDateTime</th>\n",
       "      <th>transactionAmount</th>\n",
       "      <th>merchantName</th>\n",
       "      <th>acqCountry</th>\n",
       "      <th>merchantCountryCode</th>\n",
       "      <th>posEntryMode</th>\n",
       "      <th>posConditionCode</th>\n",
       "      <th>merchantCategoryCode</th>\n",
       "      <th>currentExpDate</th>\n",
       "      <th>accountOpenDate</th>\n",
       "      <th>dateOfLastAddressChange</th>\n",
       "      <th>cardCVV</th>\n",
       "      <th>enteredCVV</th>\n",
       "      <th>cardLast4Digits</th>\n",
       "      <th>transactionType</th>\n",
       "      <th>echoBuffer</th>\n",
       "      <th>currentBalance</th>\n",
       "      <th>merchantCity</th>\n",
       "      <th>merchantState</th>\n",
       "      <th>merchantZip</th>\n",
       "      <th>cardPresent</th>\n",
       "      <th>posOnPremises</th>\n",
       "      <th>recurringAuthInd</th>\n",
       "      <th>expirationDateKeyInMatch</th>\n",
       "      <th>isFraud</th>\n",
       "    </tr>\n",
       "  </thead>\n",
       "  <tbody>\n",
       "    <tr>\n",
       "      <th>0</th>\n",
       "      <td>737265056</td>\n",
       "      <td>737265056</td>\n",
       "      <td>5000.0</td>\n",
       "      <td>5000.0</td>\n",
       "      <td>2016-08-13T14:27:32</td>\n",
       "      <td>98.55</td>\n",
       "      <td>Uber</td>\n",
       "      <td>US</td>\n",
       "      <td>US</td>\n",
       "      <td>02</td>\n",
       "      <td>01</td>\n",
       "      <td>rideshare</td>\n",
       "      <td>06/2023</td>\n",
       "      <td>2015-03-14</td>\n",
       "      <td>2015-03-14</td>\n",
       "      <td>414</td>\n",
       "      <td>414</td>\n",
       "      <td>1803</td>\n",
       "      <td>PURCHASE</td>\n",
       "      <td>None</td>\n",
       "      <td>0.0</td>\n",
       "      <td>None</td>\n",
       "      <td>None</td>\n",
       "      <td>None</td>\n",
       "      <td>False</td>\n",
       "      <td>None</td>\n",
       "      <td>None</td>\n",
       "      <td>False</td>\n",
       "      <td>False</td>\n",
       "    </tr>\n",
       "    <tr>\n",
       "      <th>1</th>\n",
       "      <td>737265056</td>\n",
       "      <td>737265056</td>\n",
       "      <td>5000.0</td>\n",
       "      <td>5000.0</td>\n",
       "      <td>2016-10-11T05:05:54</td>\n",
       "      <td>74.51</td>\n",
       "      <td>AMC #191138</td>\n",
       "      <td>US</td>\n",
       "      <td>US</td>\n",
       "      <td>09</td>\n",
       "      <td>01</td>\n",
       "      <td>entertainment</td>\n",
       "      <td>02/2024</td>\n",
       "      <td>2015-03-14</td>\n",
       "      <td>2015-03-14</td>\n",
       "      <td>486</td>\n",
       "      <td>486</td>\n",
       "      <td>767</td>\n",
       "      <td>PURCHASE</td>\n",
       "      <td>None</td>\n",
       "      <td>0.0</td>\n",
       "      <td>None</td>\n",
       "      <td>None</td>\n",
       "      <td>None</td>\n",
       "      <td>True</td>\n",
       "      <td>None</td>\n",
       "      <td>None</td>\n",
       "      <td>False</td>\n",
       "      <td>False</td>\n",
       "    </tr>\n",
       "    <tr>\n",
       "      <th>2</th>\n",
       "      <td>737265056</td>\n",
       "      <td>737265056</td>\n",
       "      <td>5000.0</td>\n",
       "      <td>5000.0</td>\n",
       "      <td>2016-11-08T09:18:39</td>\n",
       "      <td>7.47</td>\n",
       "      <td>Play Store</td>\n",
       "      <td>US</td>\n",
       "      <td>US</td>\n",
       "      <td>09</td>\n",
       "      <td>01</td>\n",
       "      <td>mobileapps</td>\n",
       "      <td>08/2025</td>\n",
       "      <td>2015-03-14</td>\n",
       "      <td>2015-03-14</td>\n",
       "      <td>486</td>\n",
       "      <td>486</td>\n",
       "      <td>767</td>\n",
       "      <td>PURCHASE</td>\n",
       "      <td>None</td>\n",
       "      <td>0.0</td>\n",
       "      <td>None</td>\n",
       "      <td>None</td>\n",
       "      <td>None</td>\n",
       "      <td>False</td>\n",
       "      <td>None</td>\n",
       "      <td>None</td>\n",
       "      <td>False</td>\n",
       "      <td>False</td>\n",
       "    </tr>\n",
       "    <tr>\n",
       "      <th>3</th>\n",
       "      <td>737265056</td>\n",
       "      <td>737265056</td>\n",
       "      <td>5000.0</td>\n",
       "      <td>5000.0</td>\n",
       "      <td>2016-12-10T02:14:50</td>\n",
       "      <td>7.47</td>\n",
       "      <td>Play Store</td>\n",
       "      <td>US</td>\n",
       "      <td>US</td>\n",
       "      <td>09</td>\n",
       "      <td>01</td>\n",
       "      <td>mobileapps</td>\n",
       "      <td>08/2025</td>\n",
       "      <td>2015-03-14</td>\n",
       "      <td>2015-03-14</td>\n",
       "      <td>486</td>\n",
       "      <td>486</td>\n",
       "      <td>767</td>\n",
       "      <td>PURCHASE</td>\n",
       "      <td>None</td>\n",
       "      <td>0.0</td>\n",
       "      <td>None</td>\n",
       "      <td>None</td>\n",
       "      <td>None</td>\n",
       "      <td>False</td>\n",
       "      <td>None</td>\n",
       "      <td>None</td>\n",
       "      <td>False</td>\n",
       "      <td>False</td>\n",
       "    </tr>\n",
       "    <tr>\n",
       "      <th>4</th>\n",
       "      <td>830329091</td>\n",
       "      <td>830329091</td>\n",
       "      <td>5000.0</td>\n",
       "      <td>5000.0</td>\n",
       "      <td>2016-03-24T21:04:46</td>\n",
       "      <td>71.18</td>\n",
       "      <td>Tim Hortons #947751</td>\n",
       "      <td>US</td>\n",
       "      <td>US</td>\n",
       "      <td>02</td>\n",
       "      <td>01</td>\n",
       "      <td>fastfood</td>\n",
       "      <td>10/2029</td>\n",
       "      <td>2015-08-06</td>\n",
       "      <td>2015-08-06</td>\n",
       "      <td>885</td>\n",
       "      <td>885</td>\n",
       "      <td>3143</td>\n",
       "      <td>PURCHASE</td>\n",
       "      <td>None</td>\n",
       "      <td>0.0</td>\n",
       "      <td>None</td>\n",
       "      <td>None</td>\n",
       "      <td>None</td>\n",
       "      <td>True</td>\n",
       "      <td>None</td>\n",
       "      <td>None</td>\n",
       "      <td>False</td>\n",
       "      <td>False</td>\n",
       "    </tr>\n",
       "  </tbody>\n",
       "</table>\n",
       "</div>"
      ],
      "text/plain": [
       "  accountNumber customerId  creditLimit  availableMoney  transactionDateTime  \\\n",
       "0     737265056  737265056       5000.0          5000.0  2016-08-13T14:27:32   \n",
       "1     737265056  737265056       5000.0          5000.0  2016-10-11T05:05:54   \n",
       "2     737265056  737265056       5000.0          5000.0  2016-11-08T09:18:39   \n",
       "3     737265056  737265056       5000.0          5000.0  2016-12-10T02:14:50   \n",
       "4     830329091  830329091       5000.0          5000.0  2016-03-24T21:04:46   \n",
       "\n",
       "   transactionAmount         merchantName acqCountry merchantCountryCode  \\\n",
       "0              98.55                 Uber         US                  US   \n",
       "1              74.51          AMC #191138         US                  US   \n",
       "2               7.47           Play Store         US                  US   \n",
       "3               7.47           Play Store         US                  US   \n",
       "4              71.18  Tim Hortons #947751         US                  US   \n",
       "\n",
       "  posEntryMode posConditionCode merchantCategoryCode currentExpDate  \\\n",
       "0           02               01            rideshare        06/2023   \n",
       "1           09               01        entertainment        02/2024   \n",
       "2           09               01           mobileapps        08/2025   \n",
       "3           09               01           mobileapps        08/2025   \n",
       "4           02               01             fastfood        10/2029   \n",
       "\n",
       "  accountOpenDate dateOfLastAddressChange cardCVV enteredCVV cardLast4Digits  \\\n",
       "0      2015-03-14              2015-03-14     414        414            1803   \n",
       "1      2015-03-14              2015-03-14     486        486             767   \n",
       "2      2015-03-14              2015-03-14     486        486             767   \n",
       "3      2015-03-14              2015-03-14     486        486             767   \n",
       "4      2015-08-06              2015-08-06     885        885            3143   \n",
       "\n",
       "  transactionType echoBuffer  currentBalance merchantCity merchantState  \\\n",
       "0        PURCHASE       None             0.0         None          None   \n",
       "1        PURCHASE       None             0.0         None          None   \n",
       "2        PURCHASE       None             0.0         None          None   \n",
       "3        PURCHASE       None             0.0         None          None   \n",
       "4        PURCHASE       None             0.0         None          None   \n",
       "\n",
       "  merchantZip  cardPresent posOnPremises recurringAuthInd  \\\n",
       "0        None        False          None             None   \n",
       "1        None         True          None             None   \n",
       "2        None        False          None             None   \n",
       "3        None        False          None             None   \n",
       "4        None         True          None             None   \n",
       "\n",
       "   expirationDateKeyInMatch  isFraud  \n",
       "0                     False    False  \n",
       "1                     False    False  \n",
       "2                     False    False  \n",
       "3                     False    False  \n",
       "4                     False    False  "
      ]
     },
     "execution_count": 4,
     "metadata": {},
     "output_type": "execute_result"
    }
   ],
   "source": [
    "# Define data loading\n",
    "def data_loading(path):\n",
    "    # Open the file\n",
    "    with open(file_path,'r') as file:\n",
    "        data = file.read()\n",
    "    #Split it to list, use strip to drop '' in the end\n",
    "    data_json = data.strip().split('\\n')\n",
    "    #Convert to dictionary\n",
    "    data_dictionary = [json.loads(record) for record in data_json]\n",
    "    #Replace `''` as None \n",
    "    data_dictionary = [{key: value if value != '' else None for key, value in record.items()} for record in data_dictionary]\n",
    "    #Convert to dataframe\n",
    "    df = pd.DataFrame(data_dictionary)\n",
    "\n",
    "    return df\n",
    "\n",
    "df = data_loading(file_path)\n",
    "\n",
    "# Set display options\n",
    "pd.set_option('display.max_columns', None)\n",
    "\n",
    "df.head()"
   ]
  },
  {
   "cell_type": "code",
   "execution_count": 10,
   "metadata": {
    "ExecuteTime": {
     "end_time": "2024-03-15T20:39:21.197888Z",
     "start_time": "2024-03-15T20:39:20.995955Z"
    }
   },
   "outputs": [
    {
     "data": {
      "text/plain": [
       "array(['Uber', 'AMC #191138', 'Play Store', 'Tim Hortons #947751',\n",
       "       'In-N-Out #422833', 'Krispy Kreme #685312', 'Shake Shack #968081',\n",
       "       'Burger King #486122', 'Five Guys #510989',\n",
       "       \"Auntie Anne's #747964\", 'GreenCook', 'Washington Repair',\n",
       "       'Eazy Tire', 'Convenient Auto Services', 'Shell Auto Body',\n",
       "       'Fast Auto Services', 'staples.com', 'Convenient Repair',\n",
       "       'Shell Repair', 'Eazy Repair'], dtype=object)"
      ]
     },
     "execution_count": 10,
     "metadata": {},
     "output_type": "execute_result"
    }
   ],
   "source": [
    "df['merchantName'].unique()[:20]"
   ]
  },
  {
   "cell_type": "code",
   "execution_count": 6,
   "metadata": {
    "ExecuteTime": {
     "end_time": "2024-03-15T20:24:09.793714Z",
     "start_time": "2024-03-15T20:24:09.787889Z"
    }
   },
   "outputs": [
    {
     "data": {
      "text/plain": [
       "Index(['accountNumber', 'customerId', 'creditLimit', 'availableMoney',\n",
       "       'transactionDateTime', 'transactionAmount', 'merchantName',\n",
       "       'acqCountry', 'merchantCountryCode', 'posEntryMode', 'posConditionCode',\n",
       "       'merchantCategoryCode', 'currentExpDate', 'accountOpenDate',\n",
       "       'dateOfLastAddressChange', 'cardCVV', 'enteredCVV', 'cardLast4Digits',\n",
       "       'transactionType', 'echoBuffer', 'currentBalance', 'merchantCity',\n",
       "       'merchantState', 'merchantZip', 'cardPresent', 'posOnPremises',\n",
       "       'recurringAuthInd', 'expirationDateKeyInMatch', 'isFraud'],\n",
       "      dtype='object')"
      ]
     },
     "execution_count": 6,
     "metadata": {},
     "output_type": "execute_result"
    }
   ],
   "source": [
    "df.columns"
   ]
  },
  {
   "cell_type": "code",
   "execution_count": 4,
   "metadata": {
    "ExecuteTime": {
     "end_time": "2024-03-15T03:56:55.456811Z",
     "start_time": "2024-03-15T03:56:52.823515Z"
    }
   },
   "outputs": [
    {
     "name": "stdout",
     "output_type": "stream",
     "text": [
      "<class 'pandas.core.frame.DataFrame'>\n",
      "RangeIndex: 786363 entries, 0 to 786362\n",
      "Data columns (total 29 columns):\n",
      " #   Column                    Non-Null Count   Dtype  \n",
      "---  ------                    --------------   -----  \n",
      " 0   accountNumber             786363 non-null  object \n",
      " 1   customerId                786363 non-null  object \n",
      " 2   creditLimit               786363 non-null  float64\n",
      " 3   availableMoney            786363 non-null  float64\n",
      " 4   transactionDateTime       786363 non-null  object \n",
      " 5   transactionAmount         786363 non-null  float64\n",
      " 6   merchantName              786363 non-null  object \n",
      " 7   acqCountry                781801 non-null  object \n",
      " 8   merchantCountryCode       785639 non-null  object \n",
      " 9   posEntryMode              782309 non-null  object \n",
      " 10  posConditionCode          785954 non-null  object \n",
      " 11  merchantCategoryCode      786363 non-null  object \n",
      " 12  currentExpDate            786363 non-null  object \n",
      " 13  accountOpenDate           786363 non-null  object \n",
      " 14  dateOfLastAddressChange   786363 non-null  object \n",
      " 15  cardCVV                   786363 non-null  object \n",
      " 16  enteredCVV                786363 non-null  object \n",
      " 17  cardLast4Digits           786363 non-null  object \n",
      " 18  transactionType           785665 non-null  object \n",
      " 19  echoBuffer                0 non-null       object \n",
      " 20  currentBalance            786363 non-null  float64\n",
      " 21  merchantCity              0 non-null       object \n",
      " 22  merchantState             0 non-null       object \n",
      " 23  merchantZip               0 non-null       object \n",
      " 24  cardPresent               786363 non-null  bool   \n",
      " 25  posOnPremises             0 non-null       object \n",
      " 26  recurringAuthInd          0 non-null       object \n",
      " 27  expirationDateKeyInMatch  786363 non-null  bool   \n",
      " 28  isFraud                   786363 non-null  bool   \n",
      "dtypes: bool(3), float64(4), object(22)\n",
      "memory usage: 158.2+ MB\n"
     ]
    }
   ],
   "source": [
    "df.info()"
   ]
  },
  {
   "cell_type": "code",
   "execution_count": 5,
   "metadata": {
    "ExecuteTime": {
     "end_time": "2024-03-15T03:56:57.798407Z",
     "start_time": "2024-03-15T03:56:55.458991Z"
    }
   },
   "outputs": [
    {
     "name": "stdout",
     "output_type": "stream",
     "text": [
      "Datetime Columns   : ['transactionDateTime', 'currentExpDate', 'accountOpenDate', 'dateOfLastAddressChange']\n",
      "Numerical Columns   : ['creditLimit', 'availableMoney', 'transactionAmount', 'currentBalance']\n",
      "Categorical Columns : ['accountNumber', 'customerId', 'merchantName', 'acqCountry', 'merchantCountryCode', 'posEntryMode', 'posConditionCode', 'merchantCategoryCode', 'cardCVV', 'enteredCVV', 'cardLast4Digits', 'transactionType', 'echoBuffer', 'merchantCity', 'merchantState', 'merchantZip', 'cardPresent', 'posOnPremises', 'recurringAuthInd', 'expirationDateKeyInMatch', 'isFraud']\n"
     ]
    }
   ],
   "source": [
    "# Datetime, Numerical, Categorical Features\n",
    "\n",
    "datetime_columns = ['transactionDateTime','currentExpDate','accountOpenDate','dateOfLastAddressChange']\n",
    "df[datetime_columns] = df[datetime_columns].apply(pd.to_datetime)\n",
    "\n",
    "numeric_columns = list(df.select_dtypes(include=['float', 'int']).columns)\n",
    "\n",
    "category_columns = list(df.select_dtypes(include=['object','bool']).columns)\n",
    "\n",
    "print(f'Datetime Columns   : {datetime_columns}')\n",
    "print(f'Numerical Columns   : {numeric_columns}')\n",
    "print(f'Categorical Columns : {category_columns}')\n"
   ]
  },
  {
   "cell_type": "code",
   "execution_count": 6,
   "metadata": {
    "ExecuteTime": {
     "end_time": "2024-03-15T03:56:57.813082Z",
     "start_time": "2024-03-15T03:56:57.802394Z"
    }
   },
   "outputs": [
    {
     "data": {
      "text/plain": [
       "(Timestamp('2016-01-01 00:01:02'), Timestamp('2016-12-30 23:59:45'))"
      ]
     },
     "execution_count": 6,
     "metadata": {},
     "output_type": "execute_result"
    }
   ],
   "source": [
    "# Check transaction time period\n",
    "df['transactionDateTime'].min(), df['transactionDateTime'].max()"
   ]
  },
  {
   "cell_type": "code",
   "execution_count": 7,
   "metadata": {
    "ExecuteTime": {
     "end_time": "2024-03-15T03:56:57.989004Z",
     "start_time": "2024-03-15T03:56:57.814709Z"
    }
   },
   "outputs": [
    {
     "data": {
      "text/html": [
       "<div>\n",
       "<style scoped>\n",
       "    .dataframe tbody tr th:only-of-type {\n",
       "        vertical-align: middle;\n",
       "    }\n",
       "\n",
       "    .dataframe tbody tr th {\n",
       "        vertical-align: top;\n",
       "    }\n",
       "\n",
       "    .dataframe thead th {\n",
       "        text-align: right;\n",
       "    }\n",
       "</style>\n",
       "<table border=\"1\" class=\"dataframe\">\n",
       "  <thead>\n",
       "    <tr style=\"text-align: right;\">\n",
       "      <th></th>\n",
       "      <th>count</th>\n",
       "      <th>mean</th>\n",
       "      <th>std</th>\n",
       "      <th>min</th>\n",
       "      <th>25%</th>\n",
       "      <th>50%</th>\n",
       "      <th>75%</th>\n",
       "      <th>max</th>\n",
       "    </tr>\n",
       "  </thead>\n",
       "  <tbody>\n",
       "    <tr>\n",
       "      <th>creditLimit</th>\n",
       "      <td>786363.0</td>\n",
       "      <td>10759.464459</td>\n",
       "      <td>11636.174890</td>\n",
       "      <td>250.00</td>\n",
       "      <td>5000.00</td>\n",
       "      <td>7500.00</td>\n",
       "      <td>15000.000</td>\n",
       "      <td>50000.00</td>\n",
       "    </tr>\n",
       "    <tr>\n",
       "      <th>availableMoney</th>\n",
       "      <td>786363.0</td>\n",
       "      <td>6250.725369</td>\n",
       "      <td>8880.783989</td>\n",
       "      <td>-1005.63</td>\n",
       "      <td>1077.42</td>\n",
       "      <td>3184.86</td>\n",
       "      <td>7500.000</td>\n",
       "      <td>50000.00</td>\n",
       "    </tr>\n",
       "    <tr>\n",
       "      <th>transactionAmount</th>\n",
       "      <td>786363.0</td>\n",
       "      <td>136.985791</td>\n",
       "      <td>147.725569</td>\n",
       "      <td>0.00</td>\n",
       "      <td>33.65</td>\n",
       "      <td>87.90</td>\n",
       "      <td>191.480</td>\n",
       "      <td>2011.54</td>\n",
       "    </tr>\n",
       "    <tr>\n",
       "      <th>currentBalance</th>\n",
       "      <td>786363.0</td>\n",
       "      <td>4508.739089</td>\n",
       "      <td>6457.442068</td>\n",
       "      <td>0.00</td>\n",
       "      <td>689.91</td>\n",
       "      <td>2451.76</td>\n",
       "      <td>5291.095</td>\n",
       "      <td>47498.81</td>\n",
       "    </tr>\n",
       "  </tbody>\n",
       "</table>\n",
       "</div>"
      ],
      "text/plain": [
       "                      count          mean           std      min      25%  \\\n",
       "creditLimit        786363.0  10759.464459  11636.174890   250.00  5000.00   \n",
       "availableMoney     786363.0   6250.725369   8880.783989 -1005.63  1077.42   \n",
       "transactionAmount  786363.0    136.985791    147.725569     0.00    33.65   \n",
       "currentBalance     786363.0   4508.739089   6457.442068     0.00   689.91   \n",
       "\n",
       "                       50%        75%       max  \n",
       "creditLimit        7500.00  15000.000  50000.00  \n",
       "availableMoney     3184.86   7500.000  50000.00  \n",
       "transactionAmount    87.90    191.480   2011.54  \n",
       "currentBalance     2451.76   5291.095  47498.81  "
      ]
     },
     "execution_count": 7,
     "metadata": {},
     "output_type": "execute_result"
    }
   ],
   "source": [
    "### Statistic Describe\n",
    "df[numeric_columns].describe().T"
   ]
  },
  {
   "cell_type": "code",
   "execution_count": 8,
   "metadata": {
    "ExecuteTime": {
     "end_time": "2024-03-15T03:57:00.902861Z",
     "start_time": "2024-03-15T03:56:57.991426Z"
    }
   },
   "outputs": [
    {
     "data": {
      "text/html": [
       "<div>\n",
       "<style scoped>\n",
       "    .dataframe tbody tr th:only-of-type {\n",
       "        vertical-align: middle;\n",
       "    }\n",
       "\n",
       "    .dataframe tbody tr th {\n",
       "        vertical-align: top;\n",
       "    }\n",
       "\n",
       "    .dataframe thead th {\n",
       "        text-align: right;\n",
       "    }\n",
       "</style>\n",
       "<table border=\"1\" class=\"dataframe\">\n",
       "  <thead>\n",
       "    <tr style=\"text-align: right;\">\n",
       "      <th></th>\n",
       "      <th>count</th>\n",
       "      <th>unique</th>\n",
       "      <th>top</th>\n",
       "      <th>freq</th>\n",
       "    </tr>\n",
       "  </thead>\n",
       "  <tbody>\n",
       "    <tr>\n",
       "      <th>accountNumber</th>\n",
       "      <td>786363</td>\n",
       "      <td>5000</td>\n",
       "      <td>380680241</td>\n",
       "      <td>32850</td>\n",
       "    </tr>\n",
       "    <tr>\n",
       "      <th>customerId</th>\n",
       "      <td>786363</td>\n",
       "      <td>5000</td>\n",
       "      <td>380680241</td>\n",
       "      <td>32850</td>\n",
       "    </tr>\n",
       "    <tr>\n",
       "      <th>merchantName</th>\n",
       "      <td>786363</td>\n",
       "      <td>2490</td>\n",
       "      <td>Uber</td>\n",
       "      <td>25613</td>\n",
       "    </tr>\n",
       "    <tr>\n",
       "      <th>acqCountry</th>\n",
       "      <td>781801</td>\n",
       "      <td>4</td>\n",
       "      <td>US</td>\n",
       "      <td>774709</td>\n",
       "    </tr>\n",
       "    <tr>\n",
       "      <th>merchantCountryCode</th>\n",
       "      <td>785639</td>\n",
       "      <td>4</td>\n",
       "      <td>US</td>\n",
       "      <td>778511</td>\n",
       "    </tr>\n",
       "    <tr>\n",
       "      <th>posEntryMode</th>\n",
       "      <td>782309</td>\n",
       "      <td>5</td>\n",
       "      <td>05</td>\n",
       "      <td>315035</td>\n",
       "    </tr>\n",
       "    <tr>\n",
       "      <th>posConditionCode</th>\n",
       "      <td>785954</td>\n",
       "      <td>3</td>\n",
       "      <td>01</td>\n",
       "      <td>628787</td>\n",
       "    </tr>\n",
       "    <tr>\n",
       "      <th>merchantCategoryCode</th>\n",
       "      <td>786363</td>\n",
       "      <td>19</td>\n",
       "      <td>online_retail</td>\n",
       "      <td>202156</td>\n",
       "    </tr>\n",
       "    <tr>\n",
       "      <th>cardCVV</th>\n",
       "      <td>786363</td>\n",
       "      <td>899</td>\n",
       "      <td>869</td>\n",
       "      <td>33749</td>\n",
       "    </tr>\n",
       "    <tr>\n",
       "      <th>enteredCVV</th>\n",
       "      <td>786363</td>\n",
       "      <td>976</td>\n",
       "      <td>869</td>\n",
       "      <td>33424</td>\n",
       "    </tr>\n",
       "    <tr>\n",
       "      <th>cardLast4Digits</th>\n",
       "      <td>786363</td>\n",
       "      <td>5246</td>\n",
       "      <td>593</td>\n",
       "      <td>32946</td>\n",
       "    </tr>\n",
       "    <tr>\n",
       "      <th>transactionType</th>\n",
       "      <td>785665</td>\n",
       "      <td>3</td>\n",
       "      <td>PURCHASE</td>\n",
       "      <td>745193</td>\n",
       "    </tr>\n",
       "    <tr>\n",
       "      <th>echoBuffer</th>\n",
       "      <td>0</td>\n",
       "      <td>0</td>\n",
       "      <td>NaN</td>\n",
       "      <td>NaN</td>\n",
       "    </tr>\n",
       "    <tr>\n",
       "      <th>merchantCity</th>\n",
       "      <td>0</td>\n",
       "      <td>0</td>\n",
       "      <td>NaN</td>\n",
       "      <td>NaN</td>\n",
       "    </tr>\n",
       "    <tr>\n",
       "      <th>merchantState</th>\n",
       "      <td>0</td>\n",
       "      <td>0</td>\n",
       "      <td>NaN</td>\n",
       "      <td>NaN</td>\n",
       "    </tr>\n",
       "    <tr>\n",
       "      <th>merchantZip</th>\n",
       "      <td>0</td>\n",
       "      <td>0</td>\n",
       "      <td>NaN</td>\n",
       "      <td>NaN</td>\n",
       "    </tr>\n",
       "    <tr>\n",
       "      <th>cardPresent</th>\n",
       "      <td>786363</td>\n",
       "      <td>2</td>\n",
       "      <td>False</td>\n",
       "      <td>433495</td>\n",
       "    </tr>\n",
       "    <tr>\n",
       "      <th>posOnPremises</th>\n",
       "      <td>0</td>\n",
       "      <td>0</td>\n",
       "      <td>NaN</td>\n",
       "      <td>NaN</td>\n",
       "    </tr>\n",
       "    <tr>\n",
       "      <th>recurringAuthInd</th>\n",
       "      <td>0</td>\n",
       "      <td>0</td>\n",
       "      <td>NaN</td>\n",
       "      <td>NaN</td>\n",
       "    </tr>\n",
       "    <tr>\n",
       "      <th>expirationDateKeyInMatch</th>\n",
       "      <td>786363</td>\n",
       "      <td>2</td>\n",
       "      <td>False</td>\n",
       "      <td>785320</td>\n",
       "    </tr>\n",
       "    <tr>\n",
       "      <th>isFraud</th>\n",
       "      <td>786363</td>\n",
       "      <td>2</td>\n",
       "      <td>False</td>\n",
       "      <td>773946</td>\n",
       "    </tr>\n",
       "  </tbody>\n",
       "</table>\n",
       "</div>"
      ],
      "text/plain": [
       "                           count unique            top    freq\n",
       "accountNumber             786363   5000      380680241   32850\n",
       "customerId                786363   5000      380680241   32850\n",
       "merchantName              786363   2490           Uber   25613\n",
       "acqCountry                781801      4             US  774709\n",
       "merchantCountryCode       785639      4             US  778511\n",
       "posEntryMode              782309      5             05  315035\n",
       "posConditionCode          785954      3             01  628787\n",
       "merchantCategoryCode      786363     19  online_retail  202156\n",
       "cardCVV                   786363    899            869   33749\n",
       "enteredCVV                786363    976            869   33424\n",
       "cardLast4Digits           786363   5246            593   32946\n",
       "transactionType           785665      3       PURCHASE  745193\n",
       "echoBuffer                     0      0            NaN     NaN\n",
       "merchantCity                   0      0            NaN     NaN\n",
       "merchantState                  0      0            NaN     NaN\n",
       "merchantZip                    0      0            NaN     NaN\n",
       "cardPresent               786363      2          False  433495\n",
       "posOnPremises                  0      0            NaN     NaN\n",
       "recurringAuthInd               0      0            NaN     NaN\n",
       "expirationDateKeyInMatch  786363      2          False  785320\n",
       "isFraud                   786363      2          False  773946"
      ]
     },
     "execution_count": 8,
     "metadata": {},
     "output_type": "execute_result"
    }
   ],
   "source": [
    "# Category Columns Description\n",
    "df[category_columns].describe().T"
   ]
  },
  {
   "cell_type": "markdown",
   "metadata": {},
   "source": [
    "## <font color='blue'>Insight\n",
    "\n",
    "### <font color='blue'>1) There are 29 columns with 786,363 records\n",
    "### <font color='blue'>2) Transaction happened in 2016;\n",
    "### <font color='blue'>3) There are 5000 unique customers"
   ]
  },
  {
   "cell_type": "markdown",
   "metadata": {},
   "source": [
    "# 3. Exploratory Data Analysis (EDA) and Feature Engineering\n",
    "\n",
    "-  Existing Features Exploratory\n",
    "-  Merchant Dimension \n",
    "-  Customer Behaviors"
   ]
  },
  {
   "cell_type": "markdown",
   "metadata": {},
   "source": [
    "# 3.1 Existing Feature Exploratory"
   ]
  },
  {
   "cell_type": "markdown",
   "metadata": {},
   "source": [
    "## 3.1.1 Missing Value\n",
    "- Drop;\n",
    "- Replace with N/A;\n",
    "- Replace with mod"
   ]
  },
  {
   "cell_type": "code",
   "execution_count": 9,
   "metadata": {
    "ExecuteTime": {
     "end_time": "2024-03-15T03:57:03.012496Z",
     "start_time": "2024-03-15T03:57:00.905427Z"
    }
   },
   "outputs": [
    {
     "data": {
      "text/plain": [
       "accountNumber                    0\n",
       "customerId                       0\n",
       "creditLimit                      0\n",
       "availableMoney                   0\n",
       "transactionDateTime              0\n",
       "transactionAmount                0\n",
       "merchantName                     0\n",
       "acqCountry                    4562\n",
       "merchantCountryCode            724\n",
       "posEntryMode                  4054\n",
       "posConditionCode               409\n",
       "merchantCategoryCode             0\n",
       "currentExpDate                   0\n",
       "accountOpenDate                  0\n",
       "dateOfLastAddressChange          0\n",
       "cardCVV                          0\n",
       "enteredCVV                       0\n",
       "cardLast4Digits                  0\n",
       "transactionType                698\n",
       "echoBuffer                  786363\n",
       "currentBalance                   0\n",
       "merchantCity                786363\n",
       "merchantState               786363\n",
       "merchantZip                 786363\n",
       "cardPresent                      0\n",
       "posOnPremises               786363\n",
       "recurringAuthInd            786363\n",
       "expirationDateKeyInMatch         0\n",
       "isFraud                          0\n",
       "dtype: int64"
      ]
     },
     "execution_count": 9,
     "metadata": {},
     "output_type": "execute_result"
    }
   ],
   "source": [
    "# Check the missing value\n",
    "df.isna().sum()"
   ]
  },
  {
   "cell_type": "code",
   "execution_count": 10,
   "metadata": {
    "ExecuteTime": {
     "end_time": "2024-03-15T03:57:03.187688Z",
     "start_time": "2024-03-15T03:57:03.014840Z"
    }
   },
   "outputs": [],
   "source": [
    "### Drop the columns with all Null value, which is insignificant for data analysis\n",
    "df = df.drop(columns=['echoBuffer', 'merchantCity','merchantState','merchantZip','posOnPremises','recurringAuthInd'])"
   ]
  },
  {
   "cell_type": "code",
   "execution_count": 11,
   "metadata": {
    "ExecuteTime": {
     "end_time": "2024-03-15T03:57:03.193872Z",
     "start_time": "2024-03-15T03:57:03.191124Z"
    }
   },
   "outputs": [],
   "source": [
    "columns_with_null = ['acqCountry','merchantCountryCode',\n",
    "                     'posEntryMode','posConditionCode',\n",
    "                     'transactionType']"
   ]
  },
  {
   "cell_type": "code",
   "execution_count": 12,
   "metadata": {
    "ExecuteTime": {
     "end_time": "2024-03-15T03:57:03.631972Z",
     "start_time": "2024-03-15T03:57:03.197482Z"
    }
   },
   "outputs": [
    {
     "name": "stdout",
     "output_type": "stream",
     "text": [
      "The fraud rate of acqCountry's null value is: 3.3%\n",
      "The fraud rate of merchantCountryCode's null value is: 11.3%\n",
      "The fraud rate of posEntryMode's null value is: 6.6%\n",
      "The fraud rate of posConditionCode's null value is: 5.4%\n",
      "The fraud rate of transactionType's null value is: 2.0%\n"
     ]
    }
   ],
   "source": [
    "\n",
    "for col in columns_with_null:\n",
    "\n",
    "    df_sub = df[df[col].isna()]\n",
    "    \n",
    "    fraud_percentage = df_sub['isFraud'].mean() * 100\n",
    "    print(f'The fraud rate of {col}\\'s null value is: {fraud_percentage:.1f}%')\n",
    "    "
   ]
  },
  {
   "cell_type": "code",
   "execution_count": 13,
   "metadata": {
    "ExecuteTime": {
     "end_time": "2024-03-15T03:57:03.738160Z",
     "start_time": "2024-03-15T03:57:03.633688Z"
    }
   },
   "outputs": [],
   "source": [
    "### replace null value with most frequency category: \"PURCHASE\"\n",
    "df['transactionType'].fillna(\"PURCHASE\", inplace=True)"
   ]
  },
  {
   "cell_type": "code",
   "execution_count": 14,
   "metadata": {
    "ExecuteTime": {
     "end_time": "2024-03-15T03:57:04.119426Z",
     "start_time": "2024-03-15T03:57:03.741576Z"
    }
   },
   "outputs": [],
   "source": [
    "cols_to_fill = ['acqCountry','merchantCountryCode', 'posEntryMode','posConditionCode']\n",
    "\n",
    "for col in cols_to_fill:\n",
    "    df[col].fillna(\"N/A\", inplace=True)"
   ]
  },
  {
   "cell_type": "code",
   "execution_count": 15,
   "metadata": {
    "ExecuteTime": {
     "end_time": "2024-03-15T03:57:06.395514Z",
     "start_time": "2024-03-15T03:57:04.122607Z"
    }
   },
   "outputs": [
    {
     "data": {
      "text/plain": [
       "0"
      ]
     },
     "execution_count": 15,
     "metadata": {},
     "output_type": "execute_result"
    }
   ],
   "source": [
    "df.duplicated().sum()"
   ]
  },
  {
   "cell_type": "markdown",
   "metadata": {},
   "source": [
    "## <font color='blue'>Insight\n",
    "### <font color='blue'> 1) There are 6 columns with all Null value, which is safe to drop them, including: \n",
    "### <font color='green'>['echoBuffer', 'merchantCity','merchantState','merchantZip','posOnPremises','recurringAuthInd'] \n",
    "### <font color='blue'>2) The fraud rate for the missing value of the features below are higher than the overall fraud rate(1.6%), in this case, it better to keep it as separate category: \n",
    "### <font color='green'>'acqCountry': 3.3%,'merchantCountryCode': 11.3%, 'posEntryMode': 6.6%,'posConditionCode':5.4%,\n",
    "### <font color='blue'>3)For 'transactionType', since it's fraud rate is 2.0%, it's ok to replace the null value with most frequency category, which is 'PURCHASE'\n"
   ]
  },
  {
   "cell_type": "markdown",
   "metadata": {},
   "source": [
    "## 3.1.2 Category Features: unique value's frequency and fraud rate distribution\n"
   ]
  },
  {
   "cell_type": "code",
   "execution_count": 16,
   "metadata": {
    "ExecuteTime": {
     "end_time": "2024-03-15T03:57:08.522289Z",
     "start_time": "2024-03-15T03:57:06.397580Z"
    }
   },
   "outputs": [
    {
     "data": {
      "text/plain": [
       "accountNumber               5000\n",
       "customerId                  5000\n",
       "merchantName                2490\n",
       "acqCountry                     5\n",
       "merchantCountryCode            5\n",
       "posEntryMode                   6\n",
       "posConditionCode               4\n",
       "merchantCategoryCode          19\n",
       "cardCVV                      899\n",
       "enteredCVV                   976\n",
       "cardLast4Digits             5246\n",
       "transactionType                3\n",
       "cardPresent                    2\n",
       "expirationDateKeyInMatch       2\n",
       "isFraud                        2\n",
       "dtype: int64"
      ]
     },
     "execution_count": 16,
     "metadata": {},
     "output_type": "execute_result"
    }
   ],
   "source": [
    "# All unique values\n",
    "\n",
    "category_columns = list(df.select_dtypes(include=['object','bool']).columns) # category columns\n",
    "df[category_columns].nunique()"
   ]
  },
  {
   "cell_type": "code",
   "execution_count": 17,
   "metadata": {
    "ExecuteTime": {
     "end_time": "2024-03-15T03:57:08.707410Z",
     "start_time": "2024-03-15T03:57:08.525308Z"
    }
   },
   "outputs": [
    {
     "data": {
      "text/plain": [
       "array(['Uber', 'AMC #191138', 'Play Store', ..., 'ATT #141119',\n",
       "       'EZ Wireless #200746', 'Runners #747070'], dtype=object)"
      ]
     },
     "execution_count": 17,
     "metadata": {},
     "output_type": "execute_result"
    }
   ],
   "source": [
    "df['merchantName'].unique()"
   ]
  },
  {
   "cell_type": "code",
   "execution_count": 18,
   "metadata": {
    "ExecuteTime": {
     "end_time": "2024-03-15T03:57:09.171967Z",
     "start_time": "2024-03-15T03:57:08.710285Z"
    }
   },
   "outputs": [
    {
     "data": {
      "text/plain": [
       "205"
      ]
     },
     "execution_count": 18,
     "metadata": {},
     "output_type": "execute_result"
    }
   ],
   "source": [
    "# merchant name\n",
    "df['merchant_name'] = df['merchantName'].apply(lambda x : x.split('#')[0].strip(\" \"))\n",
    "len(df['merchant_name'].unique())"
   ]
  },
  {
   "cell_type": "markdown",
   "metadata": {},
   "source": [
    "## <font color='blue'>Insight\n",
    "### <font color='blue'>1) There are 10 types of creditLimit;\n",
    "### <font color='blue'>2) After clean the merchantName, it has 205 unique values"
   ]
  },
  {
   "cell_type": "markdown",
   "metadata": {},
   "source": [
    "## 3.1.2.1 isFraud distribution"
   ]
  },
  {
   "cell_type": "code",
   "execution_count": 19,
   "metadata": {
    "ExecuteTime": {
     "end_time": "2024-03-15T03:57:09.391930Z",
     "start_time": "2024-03-15T03:57:09.174497Z"
    }
   },
   "outputs": [
    {
     "data": {
      "image/png": "[encoded data removed]",
      "text/plain": [
       "<Figure size 432x288 with 1 Axes>"
      ]
     },
     "metadata": {
      "needs_background": "light"
     },
     "output_type": "display_data"
    }
   ],
   "source": [
    "unique_counts = df['isFraud'].value_counts()\n",
    "\n",
    "sns.barplot(x=unique_counts.index, y=unique_counts.values)\n",
    "total_counts = len(df['isFraud'])\n",
    "\n",
    "plt.xticks(rotation=15)\n",
    "plt.ylabel('Count')\n",
    "plt.xlabel('Fig.3.2.1 isFraud')\n",
    "plt.title('Distribution of isFraud')\n",
    "\n",
    "for j, count in enumerate(unique_counts.values):\n",
    "    percentage = (count / total_counts) * 100\n",
    "    plt.text(j, count, f\"{percentage:.1f}%\", ha='center', va='bottom',fontsize=6)\n",
    "    \n",
    "plt.show()"
   ]
  },
  {
   "cell_type": "markdown",
   "metadata": {},
   "source": [
    "## <font color='blue'>Insight\n",
    "\n",
    "- ### <font color='blue'> The target variable is imbalance, fraud rate is only 1.6%."
   ]
  },
  {
   "cell_type": "markdown",
   "metadata": {},
   "source": [
    "## 3.1.2.2 creditLimit"
   ]
  },
  {
   "cell_type": "code",
   "execution_count": 20,
   "metadata": {
    "ExecuteTime": {
     "end_time": "2024-03-15T03:57:09.791755Z",
     "start_time": "2024-03-15T03:57:09.395498Z"
    }
   },
   "outputs": [
    {
     "data": {
      "image/png": "[encoded data removed]",
      "text/plain": [
       "<Figure size 864x432 with 2 Axes>"
      ]
     },
     "metadata": {
      "needs_background": "light"
     },
     "output_type": "display_data"
    }
   ],
   "source": [
    "fraud_rate = df.groupby('creditLimit')['isFraud'].mean()\n",
    "frequency = df['creditLimit'].value_counts()\n",
    "\n",
    "# Create a figure and a single subplot\n",
    "fig, (ax1, ax2) = plt.subplots(1, 2, figsize=(12, 6))\n",
    "\n",
    "# Create the first bar plot on ax1\n",
    "sns.barplot(data=df, x=frequency.index, y=frequency.values, ax=ax1,  edgecolor=None)\n",
    "ax1.tick_params(axis='y')\n",
    "ax1.set_xticklabels(ax1.get_xticklabels(), rotation=45, ha='right')\n",
    "ax1.set_title('Frequency Distribution for CreditLimit') \n",
    "ax1.set_ylabel('Frequency') \n",
    "\n",
    "# Create the first bar plot on ax1\n",
    "sns.barplot(data=df, x=fraud_rate.index, y=fraud_rate.values, ax=ax2, edgecolor=None)\n",
    "ax2.tick_params(axis='y')\n",
    "ax2.set_xticklabels(ax2.get_xticklabels(), rotation=45, ha='right')\n",
    "ax2.set_title('Fraud Rate for CreditLimit') \n",
    "ax2.set_ylabel('Fraud Rate') \n",
    "\n",
    "plt.show()"
   ]
  },
  {
   "cell_type": "markdown",
   "metadata": {},
   "source": [
    "## <font color='blue'> Insight of creditLimit: \n",
    "### <font color='blue'>1) There are 10 types of creditLimit range from 250 t0 50000, and the top 3 are \"5000\", \"15000\",\"7500\"\n",
    "### <font color='blue'>2) Fraud rate for each categories are similar"
   ]
  },
  {
   "cell_type": "markdown",
   "metadata": {},
   "source": [
    "## 3.1.2.3 posEntryMode"
   ]
  },
  {
   "cell_type": "code",
   "execution_count": 21,
   "metadata": {
    "ExecuteTime": {
     "end_time": "2024-03-15T03:57:10.344241Z",
     "start_time": "2024-03-15T03:57:09.794336Z"
    }
   },
   "outputs": [
    {
     "data": {
      "image/png": "[encoded data removed]",
      "text/plain": [
       "<Figure size 864x432 with 2 Axes>"
      ]
     },
     "metadata": {
      "needs_background": "light"
     },
     "output_type": "display_data"
    }
   ],
   "source": [
    "fraud_rate = df.groupby('posEntryMode')['isFraud'].mean()\n",
    "frequency = df['posEntryMode'].value_counts()\n",
    "\n",
    "# Create a figure and a single subplot\n",
    "fig, (ax1, ax2) = plt.subplots(1, 2, figsize=(12, 6))\n",
    "\n",
    "# Create the first bar plot on ax1\n",
    "sns.barplot(data=df, x=frequency.index, y=frequency.values, ax=ax1,  edgecolor=None)\n",
    "ax1.tick_params(axis='y')\n",
    "ax1.set_xticklabels(ax1.get_xticklabels(), rotation=45, ha='right')\n",
    "ax1.set_title('Frequency Distribution for posEntryMode') \n",
    "ax1.set_ylabel('Frequency') \n",
    "\n",
    "# Create the first bar plot on ax1\n",
    "sns.barplot(data=df, x=fraud_rate.index, y=fraud_rate.values, ax=ax2, edgecolor=None)\n",
    "ax2.tick_params(axis='y')\n",
    "ax2.set_xticklabels(ax2.get_xticklabels(), rotation=45, ha='right')\n",
    "ax2.set_title('Fraud Rate for posEntryMode') \n",
    "ax2.set_ylabel('Fraud Rate') \n",
    "\n",
    "# Add figure labels for each subcategory to ax1\n",
    "for i, value in enumerate(frequency.values):\n",
    "    ax1.text(i, value, str(value), ha='center', va='bottom', fontsize=8)\n",
    "\n",
    "# Add figure labels for each subcategory to ax2\n",
    "for i, value in enumerate(fraud_rate.values):\n",
    "    ax2.text(i, value, str(round(value,3)), ha='center', va='bottom', fontsize=8)\n",
    "\n",
    "plt.show()"
   ]
  },
  {
   "cell_type": "code",
   "execution_count": 22,
   "metadata": {
    "ExecuteTime": {
     "end_time": "2024-03-15T03:57:10.482953Z",
     "start_time": "2024-03-15T03:57:10.346186Z"
    }
   },
   "outputs": [],
   "source": [
    "mapping = {\"05\": 1, \"80\": 2, \"02\":3, \"90\": 4, \"09\": 5, \"N/A\":6}\n",
    "\n",
    "# Apply the mapping to the posEntryMode column\n",
    "df[\"pos_Entry_Mode\"] = df[\"posEntryMode\"].map(mapping)"
   ]
  },
  {
   "cell_type": "markdown",
   "metadata": {},
   "source": [
    "## <font color='blue'>Insight of posEntryMode\n",
    "### <font color='blue'>For posEntryMode, 05 has the lowest fraud rate, then (02,80,9,09), if posEntryMode is None, it performances the worse"
   ]
  },
  {
   "cell_type": "markdown",
   "metadata": {},
   "source": [
    "## 3.1.2.4 posConditionCode"
   ]
  },
  {
   "cell_type": "code",
   "execution_count": 23,
   "metadata": {
    "ExecuteTime": {
     "end_time": "2024-03-15T03:57:11.000995Z",
     "start_time": "2024-03-15T03:57:10.485252Z"
    }
   },
   "outputs": [
    {
     "data": {
      "image/png": "[encoded data removed]",
      "text/plain": [
       "<Figure size 864x432 with 2 Axes>"
      ]
     },
     "metadata": {
      "needs_background": "light"
     },
     "output_type": "display_data"
    }
   ],
   "source": [
    "fraud_rate = df.groupby('posConditionCode')['isFraud'].mean()\n",
    "frequency = df['posConditionCode'].value_counts()\n",
    "\n",
    "# Create a figure and a single subplot\n",
    "fig, (ax1, ax2) = plt.subplots(1, 2, figsize=(12, 6))\n",
    "\n",
    "# Create the first bar plot on ax1\n",
    "sns.barplot(data=df, x=frequency.index, y=frequency.values, ax=ax1,  edgecolor=None)\n",
    "ax1.tick_params(axis='y')\n",
    "ax1.set_xticklabels(ax1.get_xticklabels(), rotation=45, ha='right')\n",
    "ax1.set_title('Frequency Distribution for posConditionCode') \n",
    "ax1.set_ylabel('Frequency') \n",
    "\n",
    "# Create the first bar plot on ax1\n",
    "sns.barplot(data=df, x=fraud_rate.index, y=fraud_rate.values, ax=ax2, edgecolor=None)\n",
    "ax2.tick_params(axis='y')\n",
    "ax2.set_xticklabels(ax2.get_xticklabels(), rotation=45, ha='right')\n",
    "ax2.set_title('Fraud Rate for posConditionCode') \n",
    "ax2.set_ylabel('Fraud Rate') \n",
    "\n",
    "# Add figure labels for each subcategory to ax1\n",
    "for i, value in enumerate(frequency.values):\n",
    "    ax1.text(i, value, str(value), ha='center', va='bottom', fontsize=8)\n",
    "\n",
    "# Add figure labels for each subcategory to ax2\n",
    "for i, value in enumerate(fraud_rate.values):\n",
    "    ax2.text(i, value, str(round(value,3)), ha='center', va='bottom', fontsize=8)\n",
    "\n",
    "plt.show()"
   ]
  },
  {
   "cell_type": "code",
   "execution_count": 24,
   "metadata": {
    "ExecuteTime": {
     "end_time": "2024-03-15T03:57:11.146755Z",
     "start_time": "2024-03-15T03:57:11.004037Z"
    }
   },
   "outputs": [],
   "source": [
    "mapping = {\"08\": 1, \"01\": 2, \"99\": 3, \"N/A\":4}\n",
    "\n",
    "# Apply the mapping to the posEntryMode column\n",
    "df[\"pos_Condition_Code\"] = df[\"posConditionCode\"].map(mapping)"
   ]
  },
  {
   "cell_type": "markdown",
   "metadata": {},
   "source": [
    "## <font color='blue'>Insight of posConditionCode\n",
    "### <font color='blue'>1) posConditionCode of 99 is around two times more likely to be fraud then code of 01 and 08\n",
    "### <font color='blue'>2) If posConditionCode is null, the fraud rate is 3 times more than the overall fraud rate(1.6%)"
   ]
  },
  {
   "cell_type": "markdown",
   "metadata": {},
   "source": [
    "## 3.1.2.5 merchantCategoryCode"
   ]
  },
  {
   "cell_type": "code",
   "execution_count": 25,
   "metadata": {
    "ExecuteTime": {
     "end_time": "2024-03-15T03:57:12.251293Z",
     "start_time": "2024-03-15T03:57:11.152317Z"
    }
   },
   "outputs": [
    {
     "name": "stdout",
     "output_type": "stream",
     "text": [
      "Unique value: ['rideshare' 'entertainment' 'mobileapps' 'fastfood' 'food_delivery'\n",
      " 'auto' 'online_retail' 'gym' 'health' 'personal care' 'food' 'fuel'\n",
      " 'online_subscriptions' 'online_gifts' 'hotels' 'airline' 'furniture'\n",
      " 'subscriptions' 'cable/phone']\n"
     ]
    },
    {
     "data": {
      "image/png": "[encoded data removed]",
      "text/plain": [
       "<Figure size 864x432 with 2 Axes>"
      ]
     },
     "metadata": {
      "needs_background": "light"
     },
     "output_type": "display_data"
    }
   ],
   "source": [
    "print(f\"Unique value: {df['merchantCategoryCode'].unique()}\")\n",
    "\n",
    "fraud_rate = df.groupby('merchantCategoryCode')['isFraud'].mean()\n",
    "frequency = df['merchantCategoryCode'].value_counts()\n",
    "\n",
    "# Create a figure and a single subplot\n",
    "fig, (ax1, ax2) = plt.subplots(1, 2, figsize=(12, 6))\n",
    "\n",
    "# Create the first bar plot on ax1\n",
    "sns.barplot(data=df, x=frequency.index, y=frequency.values, ax=ax1,  edgecolor=None)\n",
    "ax1.tick_params(axis='y')\n",
    "ax1.set_xticklabels(ax1.get_xticklabels(), rotation=90, ha='right')\n",
    "ax1.set_title('Frequency Distribution for merchantCategoryCode') \n",
    "ax1.set_ylabel('Frequency') \n",
    "\n",
    "# Create the first bar plot on ax1\n",
    "sns.barplot(data=df, x=fraud_rate.index, y=fraud_rate.values, ax=ax2, edgecolor=None)\n",
    "ax2.tick_params(axis='y')\n",
    "ax2.set_xticklabels(ax2.get_xticklabels(), rotation=90, ha='right')\n",
    "ax2.set_title('Fraud Rate for merchantCategoryCode') \n",
    "ax2.set_ylabel('Fraud Rate') \n",
    "\n",
    "# Add figure labels for each subcategory to ax1\n",
    "for i, value in enumerate(frequency.values):\n",
    "    ax1.text(i, value, str(value), ha='center', va='bottom', fontsize=5)\n",
    "\n",
    "# Add figure labels for each subcategory to ax2\n",
    "for i, value in enumerate(fraud_rate.values):\n",
    "    ax2.text(i, value, str(round(value,3)), ha='center', va='bottom', fontsize=5)\n",
    "\n",
    "plt.show()"
   ]
  },
  {
   "cell_type": "markdown",
   "metadata": {},
   "source": [
    "## <font color='blue'>Insight of merchantCategoryCode\n",
    "### <font color='blue'>1. Fraud rate ditribution could be divide into 4 groups, from high to low (group1>group2>group3>group4): \n",
    "- ### <font color='green'>group1: ['rideshare','online_retail','online_gifts', 'airline']\n",
    "- ### <font color='green'>group2: ['entertainment', 'fastfood', 'auto', 'food', 'furniture', 'subscriptions']\n",
    "- ### <font color='green'>group3: ['health', 'personal care', 'hotels'] \n",
    "- ### <font color='green'>group4: ['mobileapps', 'food_delivery', 'gym', 'fuel', 'online_subscriptions', 'cable/phone']"
   ]
  },
  {
   "cell_type": "markdown",
   "metadata": {},
   "source": [
    "## 3.1.2.6 transactionType"
   ]
  },
  {
   "cell_type": "code",
   "execution_count": 26,
   "metadata": {
    "ExecuteTime": {
     "end_time": "2024-03-15T03:57:12.982270Z",
     "start_time": "2024-03-15T03:57:12.253271Z"
    }
   },
   "outputs": [
    {
     "name": "stdout",
     "output_type": "stream",
     "text": [
      "Unique value of: ['PURCHASE' 'ADDRESS_VERIFICATION' 'REVERSAL']\n"
     ]
    },
    {
     "data": {
      "image/png": "[encoded data removed]",
      "text/plain": [
       "<Figure size 864x432 with 2 Axes>"
      ]
     },
     "metadata": {
      "needs_background": "light"
     },
     "output_type": "display_data"
    }
   ],
   "source": [
    "print(f\"Unique value of: {df['transactionType'].unique()}\")\n",
    "\n",
    "fraud_rate = df.groupby('transactionType')['isFraud'].mean()\n",
    "frequency = df['transactionType'].value_counts()\n",
    "\n",
    "# Create a figure and a single subplot\n",
    "fig, (ax1, ax2) = plt.subplots(1, 2, figsize=(12, 6))\n",
    "\n",
    "# Create the first bar plot on ax1\n",
    "sns.barplot(data=df, x=frequency.index, y=frequency.values, ax=ax1,  edgecolor=None)\n",
    "ax1.tick_params(axis='y')\n",
    "ax1.set_xticklabels(ax1.get_xticklabels(), rotation=15, ha='right')\n",
    "ax1.set_title('Frequency Distribution for transactionType') \n",
    "ax1.set_ylabel('Frequency') \n",
    "\n",
    "# Create the first bar plot on ax1\n",
    "sns.barplot(data=df, x=fraud_rate.index, y=fraud_rate.values, ax=ax2, edgecolor=None)\n",
    "ax2.tick_params(axis='y')\n",
    "ax2.set_xticklabels(ax2.get_xticklabels(), rotation=15, ha='right')\n",
    "ax2.set_title('Fraud Rate for transactionType') \n",
    "ax2.set_ylabel('Fraud Rate') \n",
    "\n",
    "# Add figure labels for each subcategory to ax1\n",
    "for i, value in enumerate(frequency.values):\n",
    "    ax1.text(i, value, str(value), ha='center', va='bottom', fontsize=8)\n",
    "\n",
    "# Add figure labels for each subcategory to ax2\n",
    "for i, value in enumerate(fraud_rate.values):\n",
    "    ax2.text(i, value, str(round(value,3)), ha='center', va='bottom', fontsize=8)\n",
    "\n",
    "plt.show()"
   ]
  },
  {
   "cell_type": "code",
   "execution_count": 27,
   "metadata": {
    "ExecuteTime": {
     "end_time": "2024-03-15T03:57:13.124959Z",
     "start_time": "2024-03-15T03:57:12.984350Z"
    }
   },
   "outputs": [],
   "source": [
    "\n",
    "mapping = {\"ADDRESS_VERIFICATION\": 1, \"PURCHASE\": 2, \"REVERSAL\": 2}\n",
    "\n",
    "# Apply the mapping to the posEntryMode column\n",
    "df[\"transaction_type\"] = df[\"transactionType\"].map(mapping)"
   ]
  },
  {
   "cell_type": "markdown",
   "metadata": {},
   "source": [
    "## <font color='blue'>Insight\n",
    "- ### <font color='blue'>For transaction_type, the fraud rate of ADDRESS_VERIFICATION is around 1/3 of the other two types"
   ]
  },
  {
   "cell_type": "markdown",
   "metadata": {},
   "source": [
    "## 3.1.2.7 cardPresent"
   ]
  },
  {
   "cell_type": "code",
   "execution_count": 28,
   "metadata": {
    "ExecuteTime": {
     "end_time": "2024-03-15T03:57:13.400757Z",
     "start_time": "2024-03-15T03:57:13.127314Z"
    }
   },
   "outputs": [
    {
     "name": "stdout",
     "output_type": "stream",
     "text": [
      "Unique value of: [False  True]\n"
     ]
    },
    {
     "data": {
      "image/png": "[encoded data removed]",
      "text/plain": [
       "<Figure size 864x432 with 2 Axes>"
      ]
     },
     "metadata": {
      "needs_background": "light"
     },
     "output_type": "display_data"
    }
   ],
   "source": [
    "print(f\"Unique value of: {df['cardPresent'].unique()}\")\n",
    "\n",
    "fraud_rate = df.groupby('cardPresent')['isFraud'].mean()\n",
    "frequency = df['cardPresent'].value_counts()\n",
    "\n",
    "# Create a figure and a single subplot\n",
    "fig, (ax1, ax2) = plt.subplots(1, 2, figsize=(12, 6))\n",
    "\n",
    "# Create the first bar plot on ax1\n",
    "sns.barplot(data=df, x=frequency.index, y=frequency.values, ax=ax1,  edgecolor=None)\n",
    "ax1.tick_params(axis='y')\n",
    "ax1.set_xticklabels(ax1.get_xticklabels(), rotation=15, ha='right')\n",
    "ax1.set_title('Frequency Distribution for cardPresent') \n",
    "ax1.set_ylabel('Frequency') \n",
    "\n",
    "# Create the first bar plot on ax1\n",
    "sns.barplot(data=df, x=fraud_rate.index, y=fraud_rate.values, ax=ax2, edgecolor=None)\n",
    "ax2.tick_params(axis='y')\n",
    "ax2.set_xticklabels(ax2.get_xticklabels(), rotation=15, ha='right')\n",
    "ax2.set_title('Fraud Rate for cardPresent') \n",
    "ax2.set_ylabel('Fraud Rate') \n",
    "\n",
    "# Add figure labels for each subcategory to ax1\n",
    "for i, value in enumerate(frequency.values):\n",
    "    ax1.text(i, value, str(value), ha='center', va='bottom', fontsize=8)\n",
    "\n",
    "# Add figure labels for each subcategory to ax2\n",
    "for i, value in enumerate(fraud_rate.values):\n",
    "    ax2.text(i, value, str(round(value,3)), ha='center', va='bottom', fontsize=8)\n",
    "\n",
    "plt.show()"
   ]
  },
  {
   "cell_type": "code",
   "execution_count": 29,
   "metadata": {
    "ExecuteTime": {
     "end_time": "2024-03-15T03:57:13.412748Z",
     "start_time": "2024-03-15T03:57:13.403249Z"
    }
   },
   "outputs": [],
   "source": [
    "mapping = {True: 1, False: 2}\n",
    "\n",
    "# Apply the mapping to the posEntryMode column\n",
    "df[\"card_present\"] = df[\"cardPresent\"].map(mapping)"
   ]
  },
  {
   "cell_type": "markdown",
   "metadata": {},
   "source": [
    "## <font color='blue'>Insight\n",
    "### <font color='blue'>The frequency distribution of card not present is slightly higher than card present\n",
    "### <font color='blue'>The fraud rate of card not present is around 2 times more than card present"
   ]
  },
  {
   "cell_type": "markdown",
   "metadata": {},
   "source": [
    "## 3.1.2.8 Numeric features distribution"
   ]
  },
  {
   "cell_type": "code",
   "execution_count": 30,
   "metadata": {
    "ExecuteTime": {
     "end_time": "2024-03-15T03:57:14.271983Z",
     "start_time": "2024-03-15T03:57:13.415698Z"
    }
   },
   "outputs": [
    {
     "data": {
      "image/png": "[encoded data removed]",
      "text/plain": [
       "<Figure size 432x288 with 1 Axes>"
      ]
     },
     "metadata": {
      "needs_background": "light"
     },
     "output_type": "display_data"
    },
    {
     "data": {
      "image/png": "[encoded data removed]",
      "text/plain": [
       "<Figure size 432x288 with 1 Axes>"
      ]
     },
     "metadata": {
      "needs_background": "light"
     },
     "output_type": "display_data"
    },
    {
     "data": {
      "image/png": "[encoded data removed]",
      "text/plain": [
       "<Figure size 432x288 with 1 Axes>"
      ]
     },
     "metadata": {
      "needs_background": "light"
     },
     "output_type": "display_data"
    }
   ],
   "source": [
    "for i, col in enumerate(numeric_columns):\n",
    "\n",
    "    if col !='creditLimit':\n",
    "        # df[col].hist(figsize=(12,8), bins=50)\n",
    "\n",
    "        # sns.histplot(df=df, , bins=50)\n",
    "        sns.histplot(data=df, x=col, bins=50)\n",
    "\n",
    "        plt.xlabel(f'Fig.{i} {col}')\n",
    "        plt.ylabel(f'Frequency')\n",
    "        plt.title(f'Histogram of {col}')\n",
    "        plt.show()"
   ]
  },
  {
   "cell_type": "markdown",
   "metadata": {},
   "source": [
    "## <font color='blue'>Insight\n",
    "- ### <font color='blue'>The distribution of availableMoney, transactionAmount, and currentBalance is right skewed."
   ]
  },
  {
   "cell_type": "markdown",
   "metadata": {},
   "source": [
    "##  3.1.2.9 Data Wrangling - Duplicate Transactions"
   ]
  },
  {
   "cell_type": "markdown",
   "metadata": {},
   "source": [
    "### 1) Assuming that reversal could happen days later, not necessary to be continue. \n",
    "### <font color='blue'> In this case, total_reversed_trans number is 20303, and total reversed transaction amount is 2,821,792.5"
   ]
  },
  {
   "cell_type": "code",
   "execution_count": 31,
   "metadata": {
    "ExecuteTime": {
     "end_time": "2024-03-15T03:57:14.917168Z",
     "start_time": "2024-03-15T03:57:14.274500Z"
    }
   },
   "outputs": [
    {
     "data": {
      "text/plain": [
       "(20303, 2821792.5)"
      ]
     },
     "execution_count": 31,
     "metadata": {},
     "output_type": "execute_result"
    }
   ],
   "source": [
    "# Identify reversed transactions\n",
    "reversed_trans= df[df['transactionType'] == 'REVERSAL']\n",
    "\n",
    "# For reversed transactions\n",
    "total_reversed_trans = reversed_trans.shape[0]\n",
    "total_reversed_amount = round(reversed_trans['transactionAmount'].sum(),2)\n",
    "\n",
    "total_reversed_trans, total_reversed_amount\n"
   ]
  },
  {
   "cell_type": "markdown",
   "metadata": {},
   "source": [
    "### 2) When calculating the multi swipe, we could define it as below: \n",
    "### <font color='blue'> Definition: Within certain period of time, the features' value  are the same except transaction time:\n",
    "### <font color='green'> ('customerId','acqCountry', 'cardCVV','merchantName', 'cardPresent','transactionAmount','isFraud')\n",
    "### <font color='blue'> Calculation Steps:\n",
    "### <font color='green'> Step1: we have to exclude the reversal transaction; \n",
    "### <font color='green'> Step2: set a time threshold. By ploting the time vs number of multi swipe, we find the turning point is at 3 min;\n",
    "### <font color='green'> Step3: Calculate the multi swipe number and amount.\n"
   ]
  },
  {
   "cell_type": "code",
   "execution_count": 32,
   "metadata": {
    "ExecuteTime": {
     "end_time": "2024-03-15T03:59:22.718133Z",
     "start_time": "2024-03-15T03:57:15.115860Z"
    }
   },
   "outputs": [
    {
     "data": {
      "image/png": "[encoded data removed]",
      "text/plain": [
       "<Figure size 432x288 with 1 Axes>"
      ]
     },
     "metadata": {
      "needs_background": "light"
     },
     "output_type": "display_data"
    }
   ],
   "source": [
    "# Sorting by 'transactionDateTime'\n",
    "df = df.sort_values('transactionDateTime')\n",
    "\n",
    "t=0\n",
    "x=[]\n",
    "y=[]\n",
    "z=[]\n",
    "\n",
    "for i in range(40):\n",
    "    t+=5\n",
    "    df1 = df[df['transactionType'] != 'REVERSAL']\n",
    "    # Sorting by 'transactionDateTime'\n",
    "    df1 = df1.sort_values('transactionDateTime')\n",
    "\n",
    "    # Identify multi-swipe transactions\n",
    "    df1['is_duplicated'] = df1.duplicated(['customerId','acqCountry', 'cardCVV','merchantName', 'cardPresent','transactionAmount','isFraud'], keep=False)\n",
    "    df1['time_diff'] = df1.groupby(['customerId','acqCountry', 'cardCVV','merchantName', 'cardPresent','transactionAmount','isFraud'])['transactionDateTime'].diff()\n",
    "    df1['is_multi_swipe'] = (df1['is_duplicated'] & (df1['time_diff'] < pd.Timedelta(seconds=t)))\n",
    "\n",
    "    multi_swipe_trans = df1[df1['is_multi_swipe']]\n",
    "\n",
    "    # For multi-swipe transactions\n",
    "    # Note: exclude the first \"normal\" transaction\n",
    "    multi_swipe_trans = multi_swipe_trans.sort_values('transactionDateTime').drop_duplicates(['customerId','acqCountry', 'cardCVV','merchantName', 'cardPresent','transactionAmount','isFraud'], keep='last')\n",
    "    total_multi_swipe_trans = multi_swipe_trans.shape[0]\n",
    "    total_multi_swipe_amount = multi_swipe_trans['transactionAmount'].sum()\n",
    "\n",
    "    # print(f'When time threshold is {t} second: \\n    The total number of multi swipe is {total_multi_swipe_trans} \\n    Total multi swipe amount is {total_multi_swipe_amount}')\n",
    "    # print('\\n')\n",
    "\n",
    "    x.append(t)\n",
    "    y.append(total_multi_swipe_trans)\n",
    "    z.append(total_multi_swipe_amount)\n",
    "\n",
    "sns.scatterplot(x=x, y=y)\n",
    "\n",
    "# Set the labels and title\n",
    "plt.xlabel('time/second')\n",
    "plt.ylabel('number of multi swipe')\n",
    "plt.title('Scatter Plot')\n",
    "\n",
    "# Display the plot\n",
    "plt.show()\n"
   ]
  },
  {
   "cell_type": "code",
   "execution_count": 33,
   "metadata": {
    "ExecuteTime": {
     "end_time": "2024-03-15T03:59:22.730440Z",
     "start_time": "2024-03-15T03:59:22.722601Z"
    }
   },
   "outputs": [
    {
     "name": "stdout",
     "output_type": "stream",
     "text": [
      "When time threshold is 180 second: \n",
      "--The total number of multi swipe is 6966 \n",
      "--Total multi swipe amount is 1000527.6299999999\n"
     ]
    }
   ],
   "source": [
    "print(f'When time threshold is 180 second: \\n--The total number of multi swipe is {total_multi_swipe_trans} \\n--Total multi swipe amount is {total_multi_swipe_amount}')\n"
   ]
  },
  {
   "cell_type": "markdown",
   "metadata": {},
   "source": [
    "# 3.2 Feature Engineering- Merchant Dimension"
   ]
  },
  {
   "cell_type": "markdown",
   "metadata": {},
   "source": [
    "### 3.2.1 Merchant Name\n",
    "- ### <font color='green'> Create new feature call merchant_trans_outlier, to check if the transaction is \"too small\", \"normal\" or \"too big\" for a centain merchant; Mapping to code \"1\", \"2\", \"3\" respectly"
   ]
  },
  {
   "cell_type": "code",
   "execution_count": 34,
   "metadata": {
    "ExecuteTime": {
     "end_time": "2024-03-15T03:59:23.043686Z",
     "start_time": "2024-03-15T03:59:22.734524Z"
    }
   },
   "outputs": [
    {
     "data": {
      "text/plain": [
       "205"
      ]
     },
     "execution_count": 34,
     "metadata": {},
     "output_type": "execute_result"
    }
   ],
   "source": [
    "len(df['merchant_name'].unique())"
   ]
  },
  {
   "cell_type": "code",
   "execution_count": 35,
   "metadata": {
    "ExecuteTime": {
     "end_time": "2024-03-15T03:59:59.835399Z",
     "start_time": "2024-03-15T03:59:23.067980Z"
    }
   },
   "outputs": [],
   "source": [
    "\n",
    "merchant_transaction_summary = []\n",
    "\n",
    "for merchant in df['merchant_name'].unique():\n",
    "    sub_df = df[df['merchant_name']==merchant]\n",
    "    trans = sub_df['transactionAmount'].describe().to_dict()\n",
    "    merchant_transaction_summary.append([merchant, trans])\n",
    "\n",
    "merchant_transaction_summary = pd.DataFrame(merchant_transaction_summary, columns=['merchant_name', 'merchant_trans_summary'])\n",
    "\n",
    "df = pd.merge(df, merchant_transaction_summary, on='merchant_name', how='left')"
   ]
  },
  {
   "cell_type": "code",
   "execution_count": 36,
   "metadata": {
    "ExecuteTime": {
     "end_time": "2024-03-15T03:59:59.856503Z",
     "start_time": "2024-03-15T03:59:59.837720Z"
    }
   },
   "outputs": [
    {
     "data": {
      "text/html": [
       "<div>\n",
       "<style scoped>\n",
       "    .dataframe tbody tr th:only-of-type {\n",
       "        vertical-align: middle;\n",
       "    }\n",
       "\n",
       "    .dataframe tbody tr th {\n",
       "        vertical-align: top;\n",
       "    }\n",
       "\n",
       "    .dataframe thead th {\n",
       "        text-align: right;\n",
       "    }\n",
       "</style>\n",
       "<table border=\"1\" class=\"dataframe\">\n",
       "  <thead>\n",
       "    <tr style=\"text-align: right;\">\n",
       "      <th></th>\n",
       "      <th>merchant_name</th>\n",
       "      <th>merchant_trans_summary</th>\n",
       "    </tr>\n",
       "  </thead>\n",
       "  <tbody>\n",
       "    <tr>\n",
       "      <th>0</th>\n",
       "      <td>Washington Post</td>\n",
       "      <td>{'count': 1369.0, 'mean': 150.96576333089848, ...</td>\n",
       "    </tr>\n",
       "    <tr>\n",
       "      <th>1</th>\n",
       "      <td>staples.com</td>\n",
       "      <td>{'count': 16980.0, 'mean': 145.45076501766786,...</td>\n",
       "    </tr>\n",
       "    <tr>\n",
       "      <th>2</th>\n",
       "      <td>cheapfast.com</td>\n",
       "      <td>{'count': 16858.0, 'mean': 144.49088681931423,...</td>\n",
       "    </tr>\n",
       "    <tr>\n",
       "      <th>3</th>\n",
       "      <td>discount.com</td>\n",
       "      <td>{'count': 16731.0, 'mean': 145.6352172613711, ...</td>\n",
       "    </tr>\n",
       "    <tr>\n",
       "      <th>4</th>\n",
       "      <td>Fast Repair</td>\n",
       "      <td>{'count': 1109.0, 'mean': 143.41151487826872, ...</td>\n",
       "    </tr>\n",
       "    <tr>\n",
       "      <th>...</th>\n",
       "      <td>...</td>\n",
       "      <td>...</td>\n",
       "    </tr>\n",
       "    <tr>\n",
       "      <th>200</th>\n",
       "      <td>Verizon Wireless</td>\n",
       "      <td>{'count': 45.0, 'mean': 103.50333333333334, 's...</td>\n",
       "    </tr>\n",
       "    <tr>\n",
       "      <th>201</th>\n",
       "      <td>Duane Reed</td>\n",
       "      <td>{'count': 28.0, 'mean': 145.32892857142858, 's...</td>\n",
       "    </tr>\n",
       "    <tr>\n",
       "      <th>202</th>\n",
       "      <td>Sprint Communications</td>\n",
       "      <td>{'count': 196.0, 'mean': 104.19801020408163, '...</td>\n",
       "    </tr>\n",
       "    <tr>\n",
       "      <th>203</th>\n",
       "      <td>Barbells</td>\n",
       "      <td>{'count': 117.0, 'mean': 31.670256410256407, '...</td>\n",
       "    </tr>\n",
       "    <tr>\n",
       "      <th>204</th>\n",
       "      <td>My Fitness</td>\n",
       "      <td>{'count': 7.0, 'mean': 50.63, 'std': 0.0, 'min...</td>\n",
       "    </tr>\n",
       "  </tbody>\n",
       "</table>\n",
       "<p>205 rows × 2 columns</p>\n",
       "</div>"
      ],
      "text/plain": [
       "             merchant_name                             merchant_trans_summary\n",
       "0          Washington Post  {'count': 1369.0, 'mean': 150.96576333089848, ...\n",
       "1              staples.com  {'count': 16980.0, 'mean': 145.45076501766786,...\n",
       "2            cheapfast.com  {'count': 16858.0, 'mean': 144.49088681931423,...\n",
       "3             discount.com  {'count': 16731.0, 'mean': 145.6352172613711, ...\n",
       "4              Fast Repair  {'count': 1109.0, 'mean': 143.41151487826872, ...\n",
       "..                     ...                                                ...\n",
       "200       Verizon Wireless  {'count': 45.0, 'mean': 103.50333333333334, 's...\n",
       "201             Duane Reed  {'count': 28.0, 'mean': 145.32892857142858, 's...\n",
       "202  Sprint Communications  {'count': 196.0, 'mean': 104.19801020408163, '...\n",
       "203               Barbells  {'count': 117.0, 'mean': 31.670256410256407, '...\n",
       "204             My Fitness  {'count': 7.0, 'mean': 50.63, 'std': 0.0, 'min...\n",
       "\n",
       "[205 rows x 2 columns]"
      ]
     },
     "execution_count": 36,
     "metadata": {},
     "output_type": "execute_result"
    }
   ],
   "source": [
    "merchant_transaction_summary"
   ]
  },
  {
   "cell_type": "code",
   "execution_count": 37,
   "metadata": {
    "ExecuteTime": {
     "end_time": "2024-03-15T04:00:20.675030Z",
     "start_time": "2024-03-15T03:59:59.863137Z"
    }
   },
   "outputs": [],
   "source": [
    "def classify_merchant_trans(transactionAmount, merchant_trans_summary):\n",
    "    p_75 = merchant_trans_summary['75%']\n",
    "    p_25 = merchant_trans_summary['25%']\n",
    "    IQR= (p_75-p_25)*1.5\n",
    "    if transactionAmount > p_75+IQR:\n",
    "        return 3 # transaction amount too big\n",
    "    elif transactionAmount< p_25 - IQR:\n",
    "        return 1 # transaction amount too samll\n",
    "    else:\n",
    "        return 2 # transaction amount normal\n",
    "\n",
    "df['merchant_trans_outlier'] = df.apply(lambda x: classify_merchant_trans(x.transactionAmount, x.merchant_trans_summary), axis=1)\n",
    "\n"
   ]
  },
  {
   "cell_type": "code",
   "execution_count": 38,
   "metadata": {
    "ExecuteTime": {
     "end_time": "2024-03-15T04:00:21.093106Z",
     "start_time": "2024-03-15T04:00:20.677564Z"
    }
   },
   "outputs": [
    {
     "data": {
      "image/png": "[encoded data removed]",
      "text/plain": [
       "<Figure size 864x432 with 2 Axes>"
      ]
     },
     "metadata": {
      "needs_background": "light"
     },
     "output_type": "display_data"
    }
   ],
   "source": [
    "fraud_rate = df.groupby('merchant_trans_outlier')['isFraud'].mean()\n",
    "frequency = df['merchant_trans_outlier'].value_counts()\n",
    "\n",
    "# Create a figure and a single subplot\n",
    "fig, (ax1, ax2) = plt.subplots(1, 2, figsize=(12, 6))\n",
    "\n",
    "# Create the first bar plot on ax1\n",
    "sns.barplot(data=df, x=frequency.index, y=frequency.values, ax=ax1,  edgecolor=None)\n",
    "ax1.tick_params(axis='y')\n",
    "ax1.set_xticklabels(ax1.get_xticklabels(), rotation=15, ha='right')\n",
    "ax1.set_title('Frequency Distribution for merchant_trans_outlier') \n",
    "ax1.set_ylabel('Frequency') \n",
    "\n",
    "# Create the first bar plot on ax1\n",
    "sns.barplot(data=df, x=fraud_rate.index, y=fraud_rate.values, ax=ax2, edgecolor=None)\n",
    "ax2.tick_params(axis='y')\n",
    "ax2.set_xticklabels(ax2.get_xticklabels(), rotation=15, ha='right')\n",
    "ax2.set_title('Fraud Rate for merchant_trans_outlier') \n",
    "ax2.set_ylabel('Fraud Rate') \n",
    "\n",
    "# Add figure labels for each subcategory to ax1\n",
    "for i, value in enumerate(frequency.values):\n",
    "    ax1.text(frequency.index[i]-1, value, str(value), ha='center', va='bottom', fontsize=8)\n",
    "\n",
    "# Add figure labels for each subcategory to ax2\n",
    "for i, value in enumerate(fraud_rate.values):\n",
    "    ax2.text(i, value, str(round(value,3)), ha='center', va='bottom', fontsize=8)\n",
    "\n",
    "plt.show()"
   ]
  },
  {
   "cell_type": "markdown",
   "metadata": {},
   "source": [
    "## <font color='blue'>Insight\n",
    "- ### <font color='blue'>if transaction amount for a certain merchant is too small, the fraud rate is 0. If too big, it is around 3 times more likely to be fraud."
   ]
  },
  {
   "cell_type": "markdown",
   "metadata": {},
   "source": [
    "## 3.2.2 merchatCategoryCode\n",
    "\n",
    "### Assumption: For different merchant category, the fraud rate is different"
   ]
  },
  {
   "cell_type": "code",
   "execution_count": 39,
   "metadata": {
    "ExecuteTime": {
     "end_time": "2024-03-15T04:00:21.752790Z",
     "start_time": "2024-03-15T04:00:21.096425Z"
    }
   },
   "outputs": [
    {
     "data": {
      "text/html": [
       "<div>\n",
       "<style scoped>\n",
       "    .dataframe tbody tr th:only-of-type {\n",
       "        vertical-align: middle;\n",
       "    }\n",
       "\n",
       "    .dataframe tbody tr th {\n",
       "        vertical-align: top;\n",
       "    }\n",
       "\n",
       "    .dataframe thead th {\n",
       "        text-align: right;\n",
       "    }\n",
       "</style>\n",
       "<table border=\"1\" class=\"dataframe\">\n",
       "  <thead>\n",
       "    <tr style=\"text-align: right;\">\n",
       "      <th>isFraud</th>\n",
       "      <th>merchantCategoryCode</th>\n",
       "      <th>False</th>\n",
       "      <th>True</th>\n",
       "      <th>merchant_code_fraud_ratio</th>\n",
       "    </tr>\n",
       "  </thead>\n",
       "  <tbody>\n",
       "    <tr>\n",
       "      <th>0</th>\n",
       "      <td>airline</td>\n",
       "      <td>14878</td>\n",
       "      <td>534</td>\n",
       "      <td>0.034648</td>\n",
       "    </tr>\n",
       "    <tr>\n",
       "      <th>17</th>\n",
       "      <td>rideshare</td>\n",
       "      <td>49864</td>\n",
       "      <td>1272</td>\n",
       "      <td>0.024875</td>\n",
       "    </tr>\n",
       "    <tr>\n",
       "      <th>14</th>\n",
       "      <td>online_retail</td>\n",
       "      <td>197218</td>\n",
       "      <td>4938</td>\n",
       "      <td>0.024427</td>\n",
       "    </tr>\n",
       "    <tr>\n",
       "      <th>13</th>\n",
       "      <td>online_gifts</td>\n",
       "      <td>64632</td>\n",
       "      <td>1606</td>\n",
       "      <td>0.024246</td>\n",
       "    </tr>\n",
       "    <tr>\n",
       "      <th>8</th>\n",
       "      <td>furniture</td>\n",
       "      <td>7329</td>\n",
       "      <td>103</td>\n",
       "      <td>0.013859</td>\n",
       "    </tr>\n",
       "    <tr>\n",
       "      <th>5</th>\n",
       "      <td>food</td>\n",
       "      <td>74476</td>\n",
       "      <td>1014</td>\n",
       "      <td>0.013432</td>\n",
       "    </tr>\n",
       "    <tr>\n",
       "      <th>1</th>\n",
       "      <td>auto</td>\n",
       "      <td>21378</td>\n",
       "      <td>273</td>\n",
       "      <td>0.012609</td>\n",
       "    </tr>\n",
       "    <tr>\n",
       "      <th>3</th>\n",
       "      <td>entertainment</td>\n",
       "      <td>79137</td>\n",
       "      <td>961</td>\n",
       "      <td>0.011998</td>\n",
       "    </tr>\n",
       "    <tr>\n",
       "      <th>4</th>\n",
       "      <td>fastfood</td>\n",
       "      <td>111064</td>\n",
       "      <td>1074</td>\n",
       "      <td>0.009577</td>\n",
       "    </tr>\n",
       "    <tr>\n",
       "      <th>18</th>\n",
       "      <td>subscriptions</td>\n",
       "      <td>22685</td>\n",
       "      <td>216</td>\n",
       "      <td>0.009432</td>\n",
       "    </tr>\n",
       "    <tr>\n",
       "      <th>11</th>\n",
       "      <td>hotels</td>\n",
       "      <td>33847</td>\n",
       "      <td>250</td>\n",
       "      <td>0.007332</td>\n",
       "    </tr>\n",
       "    <tr>\n",
       "      <th>10</th>\n",
       "      <td>health</td>\n",
       "      <td>19002</td>\n",
       "      <td>90</td>\n",
       "      <td>0.004714</td>\n",
       "    </tr>\n",
       "    <tr>\n",
       "      <th>16</th>\n",
       "      <td>personal care</td>\n",
       "      <td>18878</td>\n",
       "      <td>86</td>\n",
       "      <td>0.004535</td>\n",
       "    </tr>\n",
       "    <tr>\n",
       "      <th>12</th>\n",
       "      <td>mobileapps</td>\n",
       "      <td>14990</td>\n",
       "      <td>0</td>\n",
       "      <td>0.000000</td>\n",
       "    </tr>\n",
       "    <tr>\n",
       "      <th>7</th>\n",
       "      <td>fuel</td>\n",
       "      <td>23910</td>\n",
       "      <td>0</td>\n",
       "      <td>0.000000</td>\n",
       "    </tr>\n",
       "    <tr>\n",
       "      <th>6</th>\n",
       "      <td>food_delivery</td>\n",
       "      <td>6000</td>\n",
       "      <td>0</td>\n",
       "      <td>0.000000</td>\n",
       "    </tr>\n",
       "    <tr>\n",
       "      <th>15</th>\n",
       "      <td>online_subscriptions</td>\n",
       "      <td>11067</td>\n",
       "      <td>0</td>\n",
       "      <td>0.000000</td>\n",
       "    </tr>\n",
       "    <tr>\n",
       "      <th>2</th>\n",
       "      <td>cable/phone</td>\n",
       "      <td>1382</td>\n",
       "      <td>0</td>\n",
       "      <td>0.000000</td>\n",
       "    </tr>\n",
       "    <tr>\n",
       "      <th>9</th>\n",
       "      <td>gym</td>\n",
       "      <td>2209</td>\n",
       "      <td>0</td>\n",
       "      <td>0.000000</td>\n",
       "    </tr>\n",
       "  </tbody>\n",
       "</table>\n",
       "</div>"
      ],
      "text/plain": [
       "isFraud  merchantCategoryCode   False  True  merchant_code_fraud_ratio\n",
       "0                     airline   14878   534                   0.034648\n",
       "17                  rideshare   49864  1272                   0.024875\n",
       "14              online_retail  197218  4938                   0.024427\n",
       "13               online_gifts   64632  1606                   0.024246\n",
       "8                   furniture    7329   103                   0.013859\n",
       "5                        food   74476  1014                   0.013432\n",
       "1                        auto   21378   273                   0.012609\n",
       "3               entertainment   79137   961                   0.011998\n",
       "4                    fastfood  111064  1074                   0.009577\n",
       "18              subscriptions   22685   216                   0.009432\n",
       "11                     hotels   33847   250                   0.007332\n",
       "10                     health   19002    90                   0.004714\n",
       "16              personal care   18878    86                   0.004535\n",
       "12                 mobileapps   14990     0                   0.000000\n",
       "7                        fuel   23910     0                   0.000000\n",
       "6               food_delivery    6000     0                   0.000000\n",
       "15       online_subscriptions   11067     0                   0.000000\n",
       "2                 cable/phone    1382     0                   0.000000\n",
       "9                         gym    2209     0                   0.000000"
      ]
     },
     "execution_count": 39,
     "metadata": {},
     "output_type": "execute_result"
    }
   ],
   "source": [
    "merchant_category_safety = pd.pivot_table(data=df, index ='merchantCategoryCode',\n",
    "                                          columns='isFraud',\n",
    "                                          values = 'customerId',\n",
    "                                          fill_value=0,\n",
    "                                          aggfunc='count')\n",
    "merchant_category_safety['merchant_code_fraud_ratio'] = merchant_category_safety[True] / (merchant_category_safety[True]+merchant_category_safety[False])\n",
    "\n",
    "merchant_category_safety.reset_index(inplace=True)\n",
    "merchant_category_safety.sort_values(by='merchant_code_fraud_ratio', ascending=False)"
   ]
  },
  {
   "cell_type": "code",
   "execution_count": 40,
   "metadata": {
    "ExecuteTime": {
     "end_time": "2024-03-15T04:00:23.369975Z",
     "start_time": "2024-03-15T04:00:21.759384Z"
    }
   },
   "outputs": [],
   "source": [
    "df = pd.merge(df, merchant_category_safety[['merchantCategoryCode', 'merchant_code_fraud_ratio']], on='merchantCategoryCode')"
   ]
  },
  {
   "cell_type": "markdown",
   "metadata": {},
   "source": [
    "## 3.2.3 Merchant_name fraud ratio"
   ]
  },
  {
   "cell_type": "code",
   "execution_count": 41,
   "metadata": {
    "ExecuteTime": {
     "end_time": "2024-03-15T04:00:24.821851Z",
     "start_time": "2024-03-15T04:00:23.379228Z"
    }
   },
   "outputs": [
    {
     "data": {
      "text/html": [
       "<div>\n",
       "<style scoped>\n",
       "    .dataframe tbody tr th:only-of-type {\n",
       "        vertical-align: middle;\n",
       "    }\n",
       "\n",
       "    .dataframe tbody tr th {\n",
       "        vertical-align: top;\n",
       "    }\n",
       "\n",
       "    .dataframe thead th {\n",
       "        text-align: right;\n",
       "    }\n",
       "</style>\n",
       "<table border=\"1\" class=\"dataframe\">\n",
       "  <thead>\n",
       "    <tr style=\"text-align: right;\">\n",
       "      <th>isFraud</th>\n",
       "      <th>merchant_name</th>\n",
       "      <th>False</th>\n",
       "      <th>True</th>\n",
       "      <th>merchant_name_fraud_ratio</th>\n",
       "    </tr>\n",
       "  </thead>\n",
       "  <tbody>\n",
       "    <tr>\n",
       "      <th>16</th>\n",
       "      <td>American Airlines</td>\n",
       "      <td>2844</td>\n",
       "      <td>295</td>\n",
       "      <td>0.093979</td>\n",
       "    </tr>\n",
       "    <tr>\n",
       "      <th>77</th>\n",
       "      <td>Fresh Flowers</td>\n",
       "      <td>7781</td>\n",
       "      <td>553</td>\n",
       "      <td>0.066355</td>\n",
       "    </tr>\n",
       "    <tr>\n",
       "      <th>192</th>\n",
       "      <td>ethanallen.com</td>\n",
       "      <td>466</td>\n",
       "      <td>24</td>\n",
       "      <td>0.048980</td>\n",
       "    </tr>\n",
       "    <tr>\n",
       "      <th>40</th>\n",
       "      <td>Convenient Auto Services</td>\n",
       "      <td>1013</td>\n",
       "      <td>45</td>\n",
       "      <td>0.042533</td>\n",
       "    </tr>\n",
       "    <tr>\n",
       "      <th>131</th>\n",
       "      <td>Rove Concepts</td>\n",
       "      <td>452</td>\n",
       "      <td>20</td>\n",
       "      <td>0.042373</td>\n",
       "    </tr>\n",
       "    <tr>\n",
       "      <th>...</th>\n",
       "      <td>...</td>\n",
       "      <td>...</td>\n",
       "      <td>...</td>\n",
       "      <td>...</td>\n",
       "    </tr>\n",
       "    <tr>\n",
       "      <th>129</th>\n",
       "      <td>Rock Weights</td>\n",
       "      <td>671</td>\n",
       "      <td>0</td>\n",
       "      <td>0.000000</td>\n",
       "    </tr>\n",
       "    <tr>\n",
       "      <th>45</th>\n",
       "      <td>DailyOmnivore</td>\n",
       "      <td>1787</td>\n",
       "      <td>0</td>\n",
       "      <td>0.000000</td>\n",
       "    </tr>\n",
       "    <tr>\n",
       "      <th>22</th>\n",
       "      <td>Barbells</td>\n",
       "      <td>117</td>\n",
       "      <td>0</td>\n",
       "      <td>0.000000</td>\n",
       "    </tr>\n",
       "    <tr>\n",
       "      <th>153</th>\n",
       "      <td>TMobile Wireless</td>\n",
       "      <td>66</td>\n",
       "      <td>0</td>\n",
       "      <td>0.000000</td>\n",
       "    </tr>\n",
       "    <tr>\n",
       "      <th>178</th>\n",
       "      <td>Wayfair.com</td>\n",
       "      <td>482</td>\n",
       "      <td>0</td>\n",
       "      <td>0.000000</td>\n",
       "    </tr>\n",
       "  </tbody>\n",
       "</table>\n",
       "<p>205 rows × 4 columns</p>\n",
       "</div>"
      ],
      "text/plain": [
       "isFraud             merchant_name  False  True  merchant_name_fraud_ratio\n",
       "16              American Airlines   2844   295                   0.093979\n",
       "77                  Fresh Flowers   7781   553                   0.066355\n",
       "192                ethanallen.com    466    24                   0.048980\n",
       "40       Convenient Auto Services   1013    45                   0.042533\n",
       "131                 Rove Concepts    452    20                   0.042373\n",
       "..                            ...    ...   ...                        ...\n",
       "129                  Rock Weights    671     0                   0.000000\n",
       "45                  DailyOmnivore   1787     0                   0.000000\n",
       "22                       Barbells    117     0                   0.000000\n",
       "153              TMobile Wireless     66     0                   0.000000\n",
       "178                   Wayfair.com    482     0                   0.000000\n",
       "\n",
       "[205 rows x 4 columns]"
      ]
     },
     "execution_count": 41,
     "metadata": {},
     "output_type": "execute_result"
    }
   ],
   "source": [
    "merchant_name_fraud = pd.pivot_table(data=df, index='merchant_name', columns='isFraud',\n",
    "                                     values='customerId', aggfunc='count', fill_value=0).reset_index()\n",
    "merchant_name_fraud['merchant_name_fraud_ratio'] = merchant_name_fraud[True]/ (merchant_name_fraud[True]+ merchant_name_fraud[False])\n",
    "\n",
    "merchant_name_fraud.sort_values(by='merchant_name_fraud_ratio', ascending=False)"
   ]
  },
  {
   "cell_type": "code",
   "execution_count": 42,
   "metadata": {
    "ExecuteTime": {
     "end_time": "2024-03-15T04:00:26.282078Z",
     "start_time": "2024-03-15T04:00:24.827136Z"
    }
   },
   "outputs": [],
   "source": [
    "df = pd.merge(df, merchant_name_fraud[['merchant_name', 'merchant_name_fraud_ratio']], on ='merchant_name', how='left')"
   ]
  },
  {
   "cell_type": "markdown",
   "metadata": {},
   "source": [
    "## <font color='blue'>Insight\n",
    "- ### <font color='blue'>Top five fraud rate of merchant names are: \n",
    "  ###   <font color='green'>American Airlines, Fresh Flowers, ethanallen.com, Convenient Auto Services, Rove Concepts"
   ]
  },
  {
   "cell_type": "markdown",
   "metadata": {},
   "source": [
    "## 3.3 Cusotmer Behavior"
   ]
  },
  {
   "cell_type": "markdown",
   "metadata": {},
   "source": [
    "## 3.3.1 transaction gap\n",
    "\n",
    "- ### Assumption: for each customer's each card, if transaction gap is too small, it's more likely to be fraud"
   ]
  },
  {
   "cell_type": "code",
   "execution_count": 43,
   "metadata": {
    "ExecuteTime": {
     "end_time": "2024-03-15T04:00:30.290735Z",
     "start_time": "2024-03-15T04:00:26.284672Z"
    }
   },
   "outputs": [],
   "source": [
    "# Day gap between current datetime and last transaction datatime by customer\n",
    "\n",
    "df.sort_values(by=['customerId', 'transactionDateTime'], inplace=True)\n",
    "df['cus_trans_gap_by_second'] = df.groupby(['customerId'])['transactionDateTime'].diff()\n",
    "\n",
    "# Day gap between current datetime and last transaction datatime by customer, by card\n",
    "\n",
    "df.sort_values(by=['customerId', 'cardLast4Digits','transactionDateTime'], inplace=True)\n",
    "df['cus_card_trans_gap_by_second'] = df.groupby(['customerId','cardLast4Digits'])['transactionDateTime'].diff()\n",
    "\n"
   ]
  },
  {
   "cell_type": "code",
   "execution_count": 44,
   "metadata": {
    "ExecuteTime": {
     "end_time": "2024-03-15T04:00:34.063896Z",
     "start_time": "2024-03-15T04:00:30.293556Z"
    }
   },
   "outputs": [],
   "source": [
    "def get_second(gap):\n",
    "    try:\n",
    "        res = gap.seconds\n",
    "    except:\n",
    "        res=-1\n",
    "    return res \n",
    "\n",
    "df['cus_trans_gap_by_second'] = df['cus_trans_gap_by_second'].apply(get_second)\n",
    "df['cus_card_trans_gap_by_second'] = df['cus_card_trans_gap_by_second'].apply(get_second)"
   ]
  },
  {
   "cell_type": "code",
   "execution_count": 45,
   "metadata": {
    "ExecuteTime": {
     "end_time": "2024-03-15T04:00:35.394455Z",
     "start_time": "2024-03-15T04:00:34.072952Z"
    }
   },
   "outputs": [],
   "source": [
    "trans_freq_by_cus = df.groupby('customerId')['cus_trans_gap_by_second'].mean()\n",
    "trans_freq_by_cus = pd.DataFrame({'customerId': trans_freq_by_cus.index, 'mean_cus_trans_gap': trans_freq_by_cus.values})\n",
    "\n",
    "df = pd.merge(df, trans_freq_by_cus[['customerId', 'mean_cus_trans_gap']], on ='customerId', how='left')"
   ]
  },
  {
   "cell_type": "code",
   "execution_count": 46,
   "metadata": {
    "ExecuteTime": {
     "end_time": "2024-03-15T04:00:36.791338Z",
     "start_time": "2024-03-15T04:00:35.396734Z"
    }
   },
   "outputs": [],
   "source": [
    "trans_freq_by_cus_by_car = df.groupby('customerId')['cus_card_trans_gap_by_second'].mean()\n",
    "trans_freq_by_cus_by_car = pd.DataFrame({'customerId': trans_freq_by_cus_by_car.index, 'mean_cus_card_trans_gap': trans_freq_by_cus_by_car.values})\n",
    "\n",
    "df = pd.merge(df, trans_freq_by_cus_by_car[['customerId', 'mean_cus_card_trans_gap']], on ='customerId', how='left')\n",
    "\n",
    "df['trans_gap_ratio_cus'] = df['cus_card_trans_gap_by_second'] / df['mean_cus_card_trans_gap']\n",
    "df['trans_gap_ratio_card'] = df['cus_trans_gap_by_second'] / df['mean_cus_card_trans_gap']"
   ]
  },
  {
   "cell_type": "code",
   "execution_count": 47,
   "metadata": {
    "ExecuteTime": {
     "end_time": "2024-03-15T04:00:36.803665Z",
     "start_time": "2024-03-15T04:00:36.793945Z"
    }
   },
   "outputs": [],
   "source": [
    "df['trans_gap_ratio_cus'] = df['cus_card_trans_gap_by_second'] / df['mean_cus_card_trans_gap']\n",
    "df['trans_gap_ratio_card'] = df['cus_trans_gap_by_second'] / df['mean_cus_card_trans_gap']"
   ]
  },
  {
   "cell_type": "markdown",
   "metadata": {},
   "source": [
    "## 3.3.2 Credit ratio\n",
    "- ### Assumption: If the transaction ratio is close to 1, it's more likely to be fraud"
   ]
  },
  {
   "cell_type": "code",
   "execution_count": 48,
   "metadata": {
    "ExecuteTime": {
     "end_time": "2024-03-15T04:00:36.821867Z",
     "start_time": "2024-03-15T04:00:36.805869Z"
    }
   },
   "outputs": [],
   "source": [
    "df['credit_used_ratio'] = df['transactionAmount'] / df['creditLimit']\n",
    "df['credit_left_ratio'] = df['availableMoney']/ df['creditLimit']\n",
    "df['balance_ratio'] = df['currentBalance'] / df['creditLimit']"
   ]
  },
  {
   "cell_type": "markdown",
   "metadata": {},
   "source": [
    "## 3.3.3 Transaction ratio\n",
    "- ### Assumption: For each customer, if the transaction is much higher than their normal transaction amount, it's more likely to be fraud"
   ]
  },
  {
   "cell_type": "code",
   "execution_count": 49,
   "metadata": {
    "ExecuteTime": {
     "end_time": "2024-03-15T04:00:40.085296Z",
     "start_time": "2024-03-15T04:00:36.824469Z"
    }
   },
   "outputs": [],
   "source": [
    "# customer transaction amount take up % of each category transaction amount\n",
    "\n",
    "customer_category_summary = pd.pivot_table(data = df[df['isFraud']==False],\n",
    "                                           index = ['customerId', 'merchantCategoryCode'],\n",
    "                                           values = 'transactionAmount',\n",
    "                                           aggfunc=np.mean\n",
    "                                           ).reset_index()\n",
    "\n",
    "customer_category_summary.rename(columns= {\"transactionAmount\": \"cus_transaction_avg_amount_by_category\"}, inplace=True)\n",
    "\n",
    "df = pd.merge(df, customer_category_summary, on=['customerId', 'merchantCategoryCode'], how='left')\n",
    "df['cus_trans_ratio_by_cat'] = df['transactionAmount'] / df['cus_transaction_avg_amount_by_category']"
   ]
  },
  {
   "cell_type": "code",
   "execution_count": 50,
   "metadata": {
    "ExecuteTime": {
     "end_time": "2024-03-15T04:00:43.327142Z",
     "start_time": "2024-03-15T04:00:40.088255Z"
    }
   },
   "outputs": [],
   "source": [
    "customer_merchant_summary = pd.pivot_table(data = df[df['isFraud']==False],\n",
    "                                           index = ['customerId', 'merchant_name'],\n",
    "                                           values = 'transactionAmount',\n",
    "                                           aggfunc=np.mean\n",
    "                                           ).reset_index()\n",
    "\n",
    "customer_merchant_summary.rename(columns= {\"transactionAmount\": \"cus_transaction_avg_amount_by_merchant\"}, inplace=True)\n",
    "\n",
    "df = pd.merge(df, customer_merchant_summary, on=['customerId', 'merchant_name'], how='left')\n",
    "df['cus_trans_ratio_by_merchant'] = df['transactionAmount'] / df['cus_transaction_avg_amount_by_merchant']"
   ]
  },
  {
   "cell_type": "markdown",
   "metadata": {},
   "source": [
    "## 3.3.4 Boolean feature\n",
    "\n",
    "- ### Check if the enteredCVV is the same as the cardCVV"
   ]
  },
  {
   "cell_type": "code",
   "execution_count": 51,
   "metadata": {
    "ExecuteTime": {
     "end_time": "2024-03-15T04:00:43.628665Z",
     "start_time": "2024-03-15T04:00:43.329717Z"
    }
   },
   "outputs": [],
   "source": [
    "#Combine columns cardCVV and enteredCVV as is_correct_CVV\n",
    "\n",
    "df['is_correct_CVV'] = df['cardCVV']==df['enteredCVV']\n",
    "\n",
    "df['is_acq_merchant_country_equal'] = df['acqCountry'] ==df['merchantCountryCode']\n"
   ]
  },
  {
   "cell_type": "markdown",
   "metadata": {},
   "source": [
    "## 3.3.5 Transaction period\n",
    "- Assumption: transaction happend in different time period could be a sign of fraud"
   ]
  },
  {
   "cell_type": "code",
   "execution_count": 52,
   "metadata": {
    "ExecuteTime": {
     "end_time": "2024-03-15T04:00:43.762581Z",
     "start_time": "2024-03-15T04:00:43.631032Z"
    }
   },
   "outputs": [],
   "source": [
    "# # Extract features from 'transactionDataTime'\n",
    "df['transaction_hour'] = df['transactionDateTime'].dt.hour\n",
    "df['transaction_day_of_week'] = df['transactionDateTime'].dt.dayofweek\n",
    "df['account_months'] = df['transactionDateTime'].dt.month - df['accountOpenDate'].dt.month"
   ]
  },
  {
   "cell_type": "markdown",
   "metadata": {},
   "source": [
    "# 5. Model Training"
   ]
  },
  {
   "cell_type": "markdown",
   "metadata": {},
   "source": [
    "### 5.1 Data Preparation"
   ]
  },
  {
   "cell_type": "code",
   "execution_count": 53,
   "metadata": {
    "ExecuteTime": {
     "end_time": "2024-03-15T04:00:43.770706Z",
     "start_time": "2024-03-15T04:00:43.766467Z"
    }
   },
   "outputs": [],
   "source": [
    "\n",
    "features = [\n",
    "       'is_acq_merchant_country_equal', 'pos_Entry_Mode', 'pos_Condition_Code',\n",
    "       'transaction_type', 'card_present', \n",
    "       'merchant_trans_outlier', 'merchant_code_fraud_ratio',\n",
    "       'merchant_name_fraud_ratio', \n",
    "       'mean_cus_card_trans_gap', 'credit_used_ratio', 'credit_left_ratio',\n",
    "       'balance_ratio',\n",
    "       'cus_trans_ratio_by_cat', \n",
    "       'cus_trans_ratio_by_merchant', 'is_correct_CVV', 'transaction_hour',\n",
    "       'transaction_day_of_week', 'account_months','trans_gap_ratio_cus','trans_gap_ratio_card']\n",
    "\n",
    "id = ['accountNumber','customerId']\n",
    "target = 'isFraud'"
   ]
  },
  {
   "cell_type": "code",
   "execution_count": 54,
   "metadata": {
    "ExecuteTime": {
     "end_time": "2024-03-15T04:00:44.627120Z",
     "start_time": "2024-03-15T04:00:43.773643Z"
    },
    "scrolled": true
   },
   "outputs": [],
   "source": [
    "df_cleaned = df[features+id+[target]]"
   ]
  },
  {
   "cell_type": "code",
   "execution_count": 55,
   "metadata": {
    "ExecuteTime": {
     "end_time": "2024-03-15T04:00:45.237184Z",
     "start_time": "2024-03-15T04:00:44.629734Z"
    }
   },
   "outputs": [],
   "source": [
    "df_cleaned.fillna(-99, inplace=True)\n",
    "df_cleaned.replace(np.inf, 999, inplace=True)"
   ]
  },
  {
   "cell_type": "code",
   "execution_count": 56,
   "metadata": {},
   "outputs": [],
   "source": [
    "# Upsampling train set\n",
    "data_train, data_test = train_test_split(df_cleaned, test_size=0.25, random_state=75050)\n",
    "\n",
    "# Setting up testing and training sets\n",
    "X_train, X_test, y_train, y_test = data_train[features], data_test[features], data_train[target], data_test[target]"
   ]
  },
  {
   "cell_type": "markdown",
   "metadata": {},
   "source": [
    "### 5.2 Model Selecting"
   ]
  },
  {
   "cell_type": "code",
   "execution_count": 57,
   "metadata": {},
   "outputs": [
    {
     "name": "stdout",
     "output_type": "stream",
     "text": [
      "                 Model  F1 Score\n",
      "0  Logistic Regression  0.434499\n",
      "1        Decision Tree  0.366967\n",
      "2        Random Forest  0.502034\n",
      "3    Gradient Boosting  0.508314\n",
      "4              XGBoost  0.509581\n",
      "5             LightGBM  0.499305\n",
      "Best model is: XGBoost\n"
     ]
    }
   ],
   "source": [
    "# Define models\n",
    "models = [\n",
    "    ('Logistic Regression', LogisticRegression()),\n",
    "    ('Decision Tree', DecisionTreeClassifier()),\n",
    "    ('Random Forest', RandomForestClassifier()),\n",
    "    ('Gradient Boosting', GradientBoostingClassifier()),\n",
    "    ('XGBoost', XGBClassifier(use_label_encoder=False, eval_metric='logloss')),  # To suppress a warning related to a deprecated feature in XGBoost\n",
    "    ('LightGBM', LGBMClassifier())\n",
    "]\n",
    "\n",
    "# Model pipeline\n",
    "f1_scores = {}\n",
    "\n",
    "for name, model in models:\n",
    "    model.fit(X_train, y_train)\n",
    "    y_pred = model.predict(X_test)\n",
    "    f1_scores[name] = f1_score(y_test, y_pred)\n",
    "\n",
    "# Print each model's F1 score\n",
    "f1_scores_df = pd.DataFrame(list(f1_scores.items()), columns=['Model', 'F1 Score'])\n",
    "print(f1_scores_df)\n",
    "\n",
    "# Find the best model based on the F1 score\n",
    "best_model = max(f1_scores, key=f1_scores.get)\n",
    "print(\"Best model is:\", best_model)\n"
   ]
  },
  {
   "cell_type": "markdown",
   "metadata": {},
   "source": [
    "### 5.3 Fine-tuning\n",
    "\n",
    "### Upsample"
   ]
  },
  {
   "cell_type": "code",
   "execution_count": 58,
   "metadata": {},
   "outputs": [
    {
     "name": "stdout",
     "output_type": "stream",
     "text": [
      "isFraud\n",
      "False    580474\n",
      "True       9298\n",
      "Name: count, dtype: int64\n",
      "Report for train dataset when fraud rate is 1.6%:\n",
      "              precision    recall  f1-score   support\n",
      "\n",
      "       False       0.99      1.00      0.99    580474\n",
      "        True       0.99      0.35      0.52      9298\n",
      "\n",
      "    accuracy                           0.99    589772\n",
      "   macro avg       0.99      0.68      0.76    589772\n",
      "weighted avg       0.99      0.99      0.99    589772\n",
      "\n",
      "Report for test dataset when fraud rate is 1.6%:\n",
      "              precision    recall  f1-score   support\n",
      "\n",
      "       False       0.99      1.00      0.99    193472\n",
      "        True       0.99      0.34      0.51      3119\n",
      "\n",
      "    accuracy                           0.99    196591\n",
      "   macro avg       0.99      0.67      0.75    196591\n",
      "weighted avg       0.99      0.99      0.99    196591\n",
      "\n",
      "isFraud\n",
      "False    580474\n",
      "True      18596\n",
      "Name: count, dtype: int64\n",
      "Report for train dataset when fraud rate is 3.1%:\n",
      "              precision    recall  f1-score   support\n",
      "\n",
      "       False       0.98      1.00      0.99    580474\n",
      "        True       0.98      0.37      0.54     18596\n",
      "\n",
      "    accuracy                           0.98    599070\n",
      "   macro avg       0.98      0.69      0.76    599070\n",
      "weighted avg       0.98      0.98      0.98    599070\n",
      "\n",
      "Report for test dataset when fraud rate is 3.1%:\n",
      "              precision    recall  f1-score   support\n",
      "\n",
      "       False       0.99      1.00      0.99    193472\n",
      "        True       0.94      0.36      0.52      3119\n",
      "\n",
      "    accuracy                           0.99    196591\n",
      "   macro avg       0.97      0.68      0.76    196591\n",
      "weighted avg       0.99      0.99      0.99    196591\n",
      "\n",
      "isFraud\n",
      "False    580474\n",
      "True      37192\n",
      "Name: count, dtype: int64\n",
      "Report for train dataset when fraud rate is 6.0%:\n",
      "              precision    recall  f1-score   support\n",
      "\n",
      "       False       0.96      1.00      0.98    580474\n",
      "        True       0.96      0.40      0.57     37192\n",
      "\n",
      "    accuracy                           0.96    617666\n",
      "   macro avg       0.96      0.70      0.77    617666\n",
      "weighted avg       0.96      0.96      0.96    617666\n",
      "\n",
      "Report for test dataset when fraud rate is 6.0%:\n",
      "              precision    recall  f1-score   support\n",
      "\n",
      "       False       0.99      1.00      0.99    193472\n",
      "        True       0.83      0.38      0.53      3119\n",
      "\n",
      "    accuracy                           0.99    196591\n",
      "   macro avg       0.91      0.69      0.76    196591\n",
      "weighted avg       0.99      0.99      0.99    196591\n",
      "\n",
      "isFraud\n",
      "False    580474\n",
      "True      74384\n",
      "Name: count, dtype: int64\n",
      "Report for train dataset when fraud rate is 11.4%:\n",
      "              precision    recall  f1-score   support\n",
      "\n",
      "       False       0.93      1.00      0.96    580474\n",
      "        True       0.93      0.46      0.61     74384\n",
      "\n",
      "    accuracy                           0.93    654858\n",
      "   macro avg       0.93      0.73      0.79    654858\n",
      "weighted avg       0.93      0.93      0.92    654858\n",
      "\n",
      "Report for test dataset when fraud rate is 11.4%:\n",
      "              precision    recall  f1-score   support\n",
      "\n",
      "       False       0.99      1.00      0.99    193472\n",
      "        True       0.59      0.43      0.49      3119\n",
      "\n",
      "    accuracy                           0.99    196591\n",
      "   macro avg       0.79      0.71      0.74    196591\n",
      "weighted avg       0.98      0.99      0.99    196591\n",
      "\n"
     ]
    }
   ],
   "source": [
    "# Upsampling train set\n",
    "data_train, data_test = train_test_split(df_cleaned, test_size=0.25, random_state=75050)\n",
    "\n",
    "c=4\n",
    "max_f1 = 0\n",
    "\n",
    "for i in range(c):\n",
    "\n",
    "    print(data_train[target].value_counts())\n",
    "    fraud_rate =round(data_train[target].value_counts()[1]/len(data_train)*100,1)\n",
    "\n",
    "    # Setting up testing and training sets\n",
    "    X_train, X_test, y_train, y_test = data_train[features], data_test[features], data_train[target], data_test[target]\n",
    "\n",
    "    bst = XGBClassifier(n_estimators = 500, max_depth=5, learning_rate=0.05, objective='binary:logistic')\n",
    "\n",
    "    bst.fit(X_train, y_train)\n",
    "    y_train_preds = bst.predict(X_train)\n",
    "    preds = bst.predict(X_test)\n",
    "\n",
    "    print(f\"Report for train dataset when fraud rate is {fraud_rate}%:\")\n",
    "    print(classification_report(y_train, y_train_preds))\n",
    "    print(f\"Report for test dataset when fraud rate is {fraud_rate}%:\")\n",
    "    print(classification_report(y_test, preds))\n",
    "    f1 = f1_score(y_test, preds)\n",
    "    \n",
    "    if f1>max_f1:\n",
    "        best_model = bst\n",
    "        joblib.dump(bst, filename='/Users/shouzhenghuang/fraud_dection/xgb_model.joblib')\n",
    "        \n",
    "    data_fraud = data_train[data_train[target]==True]\n",
    "    data_train = pd.concat([data_train,data_fraud])"
   ]
  },
  {
   "cell_type": "markdown",
   "metadata": {},
   "source": [
    "## <font color='blue'>Insight\n",
    "### <font color='blue'>1) We can use value of precision and recall as a guide to adjust the percentage of upsampling to achieve the best model performance  <font color='green'>\n",
    "- ####  <font color='green'>    Precision = TP/(TP+FP); the higher the Precision, means the lower the FP(type I error), in this case, low FP means if the transaction is not Fraud, it's less likely to predict as Fraud; And this is because the amount of not Fraud is high.\n",
    "- ####   <font color='green'>   Recall = TP/(TP+FN); the lower the Recall, the higher FN(type II error), in this case, high FN means the model tend to predict the Fraud as none Fraud; And that's becuase the percentage of Fraud data is less; And increase the amount of Fraud data could increase the Recall value;\n",
    "\n",
    "### <font color='blue'>2) As checked, grid search does not contribute to the improvement of F1 score. The main reason is that there is no F1 score evaluation metric in xgboost"
   ]
  },
  {
   "cell_type": "markdown",
   "metadata": {
    "ExecuteTime": {
     "end_time": "2023-07-01T22:22:21.067505Z",
     "start_time": "2023-07-01T22:22:21.062601Z"
    }
   },
   "source": [
    "### 5.4 Feature Importance"
   ]
  },
  {
   "cell_type": "code",
   "execution_count": 59,
   "metadata": {},
   "outputs": [
    {
     "data": {
      "text/html": [
       "<div>\n",
       "<style scoped>\n",
       "    .dataframe tbody tr th:only-of-type {\n",
       "        vertical-align: middle;\n",
       "    }\n",
       "\n",
       "    .dataframe tbody tr th {\n",
       "        vertical-align: top;\n",
       "    }\n",
       "\n",
       "    .dataframe thead th {\n",
       "        text-align: right;\n",
       "    }\n",
       "</style>\n",
       "<table border=\"1\" class=\"dataframe\">\n",
       "  <thead>\n",
       "    <tr style=\"text-align: right;\">\n",
       "      <th></th>\n",
       "      <th>Feature</th>\n",
       "      <th>Importance</th>\n",
       "    </tr>\n",
       "  </thead>\n",
       "  <tbody>\n",
       "    <tr>\n",
       "      <th>13</th>\n",
       "      <td>cus_trans_ratio_by_merchant</td>\n",
       "      <td>0.255959</td>\n",
       "    </tr>\n",
       "    <tr>\n",
       "      <th>1</th>\n",
       "      <td>pos_Entry_Mode</td>\n",
       "      <td>0.167733</td>\n",
       "    </tr>\n",
       "    <tr>\n",
       "      <th>6</th>\n",
       "      <td>merchant_code_fraud_ratio</td>\n",
       "      <td>0.128267</td>\n",
       "    </tr>\n",
       "    <tr>\n",
       "      <th>7</th>\n",
       "      <td>merchant_name_fraud_ratio</td>\n",
       "      <td>0.075344</td>\n",
       "    </tr>\n",
       "    <tr>\n",
       "      <th>4</th>\n",
       "      <td>card_present</td>\n",
       "      <td>0.058768</td>\n",
       "    </tr>\n",
       "    <tr>\n",
       "      <th>12</th>\n",
       "      <td>cus_trans_ratio_by_cat</td>\n",
       "      <td>0.046452</td>\n",
       "    </tr>\n",
       "    <tr>\n",
       "      <th>9</th>\n",
       "      <td>credit_used_ratio</td>\n",
       "      <td>0.045317</td>\n",
       "    </tr>\n",
       "    <tr>\n",
       "      <th>2</th>\n",
       "      <td>pos_Condition_Code</td>\n",
       "      <td>0.040586</td>\n",
       "    </tr>\n",
       "    <tr>\n",
       "      <th>14</th>\n",
       "      <td>is_correct_CVV</td>\n",
       "      <td>0.027499</td>\n",
       "    </tr>\n",
       "    <tr>\n",
       "      <th>8</th>\n",
       "      <td>mean_cus_card_trans_gap</td>\n",
       "      <td>0.026143</td>\n",
       "    </tr>\n",
       "    <tr>\n",
       "      <th>5</th>\n",
       "      <td>merchant_trans_outlier</td>\n",
       "      <td>0.021709</td>\n",
       "    </tr>\n",
       "    <tr>\n",
       "      <th>0</th>\n",
       "      <td>is_acq_merchant_country_equal</td>\n",
       "      <td>0.015340</td>\n",
       "    </tr>\n",
       "    <tr>\n",
       "      <th>18</th>\n",
       "      <td>trans_gap_ratio_cus</td>\n",
       "      <td>0.014215</td>\n",
       "    </tr>\n",
       "    <tr>\n",
       "      <th>19</th>\n",
       "      <td>trans_gap_ratio_card</td>\n",
       "      <td>0.014128</td>\n",
       "    </tr>\n",
       "    <tr>\n",
       "      <th>10</th>\n",
       "      <td>credit_left_ratio</td>\n",
       "      <td>0.014071</td>\n",
       "    </tr>\n",
       "    <tr>\n",
       "      <th>17</th>\n",
       "      <td>account_months</td>\n",
       "      <td>0.012677</td>\n",
       "    </tr>\n",
       "    <tr>\n",
       "      <th>15</th>\n",
       "      <td>transaction_hour</td>\n",
       "      <td>0.012526</td>\n",
       "    </tr>\n",
       "    <tr>\n",
       "      <th>3</th>\n",
       "      <td>transaction_type</td>\n",
       "      <td>0.012382</td>\n",
       "    </tr>\n",
       "    <tr>\n",
       "      <th>16</th>\n",
       "      <td>transaction_day_of_week</td>\n",
       "      <td>0.010883</td>\n",
       "    </tr>\n",
       "    <tr>\n",
       "      <th>11</th>\n",
       "      <td>balance_ratio</td>\n",
       "      <td>0.000000</td>\n",
       "    </tr>\n",
       "  </tbody>\n",
       "</table>\n",
       "</div>"
      ],
      "text/plain": [
       "                          Feature  Importance\n",
       "13    cus_trans_ratio_by_merchant    0.255959\n",
       "1                  pos_Entry_Mode    0.167733\n",
       "6       merchant_code_fraud_ratio    0.128267\n",
       "7       merchant_name_fraud_ratio    0.075344\n",
       "4                    card_present    0.058768\n",
       "12         cus_trans_ratio_by_cat    0.046452\n",
       "9               credit_used_ratio    0.045317\n",
       "2              pos_Condition_Code    0.040586\n",
       "14                 is_correct_CVV    0.027499\n",
       "8         mean_cus_card_trans_gap    0.026143\n",
       "5          merchant_trans_outlier    0.021709\n",
       "0   is_acq_merchant_country_equal    0.015340\n",
       "18            trans_gap_ratio_cus    0.014215\n",
       "19           trans_gap_ratio_card    0.014128\n",
       "10              credit_left_ratio    0.014071\n",
       "17                 account_months    0.012677\n",
       "15               transaction_hour    0.012526\n",
       "3                transaction_type    0.012382\n",
       "16        transaction_day_of_week    0.010883\n",
       "11                  balance_ratio    0.000000"
      ]
     },
     "execution_count": 59,
     "metadata": {},
     "output_type": "execute_result"
    }
   ],
   "source": [
    "# Feature Importance\n",
    "features_importance_report = pd.DataFrame({'Feature': X_train.columns, \"Importance\": best_model.feature_importances_})\n",
    "features_importance_report.sort_values(by='Importance', ascending=False)"
   ]
  },
  {
   "cell_type": "markdown",
   "metadata": {},
   "source": [
    "## 5.5 PDP Analysis (Partial Dependence Plot)"
   ]
  },
  {
   "cell_type": "code",
   "execution_count": 60,
   "metadata": {},
   "outputs": [],
   "source": [
    "pdp_data = df_cleaned[features+[target]]\n",
    "pdp_target = target"
   ]
  },
  {
   "cell_type": "markdown",
   "metadata": {},
   "source": [
    "### 5.5.1 customer_transaction_ratio_by_merchant_name\n",
    "\n",
    "- ### The meaning of the feature: For a certain merchant_name, each customers have their own prefer and pattern. And this feature will capture the transaction amount account for the average spending for certain merchant_name;\n",
    "- ### \"-99\" is the code indicate it's the first time the customer purchase the merchant; "
   ]
  },
  {
   "cell_type": "code",
   "execution_count": 61,
   "metadata": {},
   "outputs": [
    {
     "data": {
      "application/vnd.plotly.v1+json": {
       "config": {
        "plotlyServerURL": "https://plot.ly"
       },
       "data": [
        {
         "hovertemplate": "%{text}",
         "marker": {
          "color": "#5BB573",
          "opacity": 0.5
         },
         "name": "count",
         "text": [
          87374,
          87374,
          87373,
          87374,
          87373,
          87374,
          87373,
          87374,
          87374
         ],
         "textposition": "outside",
         "type": "bar",
         "width": 0.36,
         "x": [
          0,
          1,
          2,
          3,
          4,
          5,
          6,
          7,
          8
         ],
         "xaxis": "x",
         "y": [
          87374,
          87374,
          87373,
          87374,
          87373,
          87374,
          87373,
          87374,
          87374
         ],
         "yaxis": "y"
        },
        {
         "hovertemplate": "%{text}",
         "line": {
          "color": "#636EFA"
         },
         "marker": {
          "color": "#636EFA"
         },
         "mode": "lines+markers+text",
         "name": "Average isFraud",
         "text": [
          "0.047",
          "0.004",
          "0.007",
          "0.009",
          "0.009",
          "0.002",
          "0.012",
          "0.017",
          "0.036"
         ],
         "textposition": "top center",
         "type": "scatter",
         "x": [
          0,
          1,
          2,
          3,
          4,
          5,
          6,
          7,
          8
         ],
         "xaxis": "x",
         "y": [
          0.04667292329525946,
          0.0037654222079794904,
          0.006855664793471668,
          0.008766910064778996,
          0.009030249619447655,
          0.002105889623915581,
          0.01234935277488469,
          0.016778446677501318,
          0.035788678554260996
         ],
         "yaxis": "y2"
        }
       ],
       "layout": {
        "height": 600,
        "showlegend": false,
        "template": {
         "data": {
          "bar": [
           {
            "error_x": {
             "color": "#2a3f5f"
            },
            "error_y": {
             "color": "#2a3f5f"
            },
            "marker": {
             "line": {
              "color": "white",
              "width": 0.5
             },
             "pattern": {
              "fillmode": "overlay",
              "size": 10,
              "solidity": 0.2
             }
            },
            "type": "bar"
           }
          ],
          "barpolar": [
           {
            "marker": {
             "line": {
              "color": "white",
              "width": 0.5
             },
             "pattern": {
              "fillmode": "overlay",
              "size": 10,
              "solidity": 0.2
             }
            },
            "type": "barpolar"
           }
          ],
          "carpet": [
           {
            "aaxis": {
             "endlinecolor": "#2a3f5f",
             "gridcolor": "#C8D4E3",
             "linecolor": "#C8D4E3",
             "minorgridcolor": "#C8D4E3",
             "startlinecolor": "#2a3f5f"
            },
            "baxis": {
             "endlinecolor": "#2a3f5f",
             "gridcolor": "#C8D4E3",
             "linecolor": "#C8D4E3",
             "minorgridcolor": "#C8D4E3",
             "startlinecolor": "#2a3f5f"
            },
            "type": "carpet"
           }
          ],
          "choropleth": [
           {
            "colorbar": {
             "outlinewidth": 0,
             "ticks": ""
            },
            "type": "choropleth"
           }
          ],
          "contour": [
           {
            "colorbar": {
             "outlinewidth": 0,
             "ticks": ""
            },
            "colorscale": [
             [
              0,
              "#0d0887"
             ],
             [
              0.1111111111111111,
              "#46039f"
             ],
             [
              0.2222222222222222,
              "#7201a8"
             ],
             [
              0.3333333333333333,
              "#9c179e"
             ],
             [
              0.4444444444444444,
              "#bd3786"
             ],
             [
              0.5555555555555556,
              "#d8576b"
             ],
             [
              0.6666666666666666,
              "#ed7953"
             ],
             [
              0.7777777777777778,
              "#fb9f3a"
             ],
             [
              0.8888888888888888,
              "#fdca26"
             ],
             [
              1,
              "#f0f921"
             ]
            ],
            "type": "contour"
           }
          ],
          "contourcarpet": [
           {
            "colorbar": {
             "outlinewidth": 0,
             "ticks": ""
            },
            "type": "contourcarpet"
           }
          ],
          "heatmap": [
           {
            "colorbar": {
             "outlinewidth": 0,
             "ticks": ""
            },
            "colorscale": [
             [
              0,
              "#0d0887"
             ],
             [
              0.1111111111111111,
              "#46039f"
             ],
             [
              0.2222222222222222,
              "#7201a8"
             ],
             [
              0.3333333333333333,
              "#9c179e"
             ],
             [
              0.4444444444444444,
              "#bd3786"
             ],
             [
              0.5555555555555556,
              "#d8576b"
             ],
             [
              0.6666666666666666,
              "#ed7953"
             ],
             [
              0.7777777777777778,
              "#fb9f3a"
             ],
             [
              0.8888888888888888,
              "#fdca26"
             ],
             [
              1,
              "#f0f921"
             ]
            ],
            "type": "heatmap"
           }
          ],
          "heatmapgl": [
           {
            "colorbar": {
             "outlinewidth": 0,
             "ticks": ""
            },
            "colorscale": [
             [
              0,
              "#0d0887"
             ],
             [
              0.1111111111111111,
              "#46039f"
             ],
             [
              0.2222222222222222,
              "#7201a8"
             ],
             [
              0.3333333333333333,
              "#9c179e"
             ],
             [
              0.4444444444444444,
              "#bd3786"
             ],
             [
              0.5555555555555556,
              "#d8576b"
             ],
             [
              0.6666666666666666,
              "#ed7953"
             ],
             [
              0.7777777777777778,
              "#fb9f3a"
             ],
             [
              0.8888888888888888,
              "#fdca26"
             ],
             [
              1,
              "#f0f921"
             ]
            ],
            "type": "heatmapgl"
           }
          ],
          "histogram": [
           {
            "marker": {
             "pattern": {
              "fillmode": "overlay",
              "size": 10,
              "solidity": 0.2
             }
            },
            "type": "histogram"
           }
          ],
          "histogram2d": [
           {
            "colorbar": {
             "outlinewidth": 0,
             "ticks": ""
            },
            "colorscale": [
             [
              0,
              "#0d0887"
             ],
             [
              0.1111111111111111,
              "#46039f"
             ],
             [
              0.2222222222222222,
              "#7201a8"
             ],
             [
              0.3333333333333333,
              "#9c179e"
             ],
             [
              0.4444444444444444,
              "#bd3786"
             ],
             [
              0.5555555555555556,
              "#d8576b"
             ],
             [
              0.6666666666666666,
              "#ed7953"
             ],
             [
              0.7777777777777778,
              "#fb9f3a"
             ],
             [
              0.8888888888888888,
              "#fdca26"
             ],
             [
              1,
              "#f0f921"
             ]
            ],
            "type": "histogram2d"
           }
          ],
          "histogram2dcontour": [
           {
            "colorbar": {
             "outlinewidth": 0,
             "ticks": ""
            },
            "colorscale": [
             [
              0,
              "#0d0887"
             ],
             [
              0.1111111111111111,
              "#46039f"
             ],
             [
              0.2222222222222222,
              "#7201a8"
             ],
             [
              0.3333333333333333,
              "#9c179e"
             ],
             [
              0.4444444444444444,
              "#bd3786"
             ],
             [
              0.5555555555555556,
              "#d8576b"
             ],
             [
              0.6666666666666666,
              "#ed7953"
             ],
             [
              0.7777777777777778,
              "#fb9f3a"
             ],
             [
              0.8888888888888888,
              "#fdca26"
             ],
             [
              1,
              "#f0f921"
             ]
            ],
            "type": "histogram2dcontour"
           }
          ],
          "mesh3d": [
           {
            "colorbar": {
             "outlinewidth": 0,
             "ticks": ""
            },
            "type": "mesh3d"
           }
          ],
          "parcoords": [
           {
            "line": {
             "colorbar": {
              "outlinewidth": 0,
              "ticks": ""
             }
            },
            "type": "parcoords"
           }
          ],
          "pie": [
           {
            "automargin": true,
            "type": "pie"
           }
          ],
          "scatter": [
           {
            "fillpattern": {
             "fillmode": "overlay",
             "size": 10,
             "solidity": 0.2
            },
            "type": "scatter"
           }
          ],
          "scatter3d": [
           {
            "line": {
             "colorbar": {
              "outlinewidth": 0,
              "ticks": ""
             }
            },
            "marker": {
             "colorbar": {
              "outlinewidth": 0,
              "ticks": ""
             }
            },
            "type": "scatter3d"
           }
          ],
          "scattercarpet": [
           {
            "marker": {
             "colorbar": {
              "outlinewidth": 0,
              "ticks": ""
             }
            },
            "type": "scattercarpet"
           }
          ],
          "scattergeo": [
           {
            "marker": {
             "colorbar": {
              "outlinewidth": 0,
              "ticks": ""
             }
            },
            "type": "scattergeo"
           }
          ],
          "scattergl": [
           {
            "marker": {
             "colorbar": {
              "outlinewidth": 0,
              "ticks": ""
             }
            },
            "type": "scattergl"
           }
          ],
          "scattermapbox": [
           {
            "marker": {
             "colorbar": {
              "outlinewidth": 0,
              "ticks": ""
             }
            },
            "type": "scattermapbox"
           }
          ],
          "scatterpolar": [
           {
            "marker": {
             "colorbar": {
              "outlinewidth": 0,
              "ticks": ""
             }
            },
            "type": "scatterpolar"
           }
          ],
          "scatterpolargl": [
           {
            "marker": {
             "colorbar": {
              "outlinewidth": 0,
              "ticks": ""
             }
            },
            "type": "scatterpolargl"
           }
          ],
          "scatterternary": [
           {
            "marker": {
             "colorbar": {
              "outlinewidth": 0,
              "ticks": ""
             }
            },
            "type": "scatterternary"
           }
          ],
          "surface": [
           {
            "colorbar": {
             "outlinewidth": 0,
             "ticks": ""
            },
            "colorscale": [
             [
              0,
              "#0d0887"
             ],
             [
              0.1111111111111111,
              "#46039f"
             ],
             [
              0.2222222222222222,
              "#7201a8"
             ],
             [
              0.3333333333333333,
              "#9c179e"
             ],
             [
              0.4444444444444444,
              "#bd3786"
             ],
             [
              0.5555555555555556,
              "#d8576b"
             ],
             [
              0.6666666666666666,
              "#ed7953"
             ],
             [
              0.7777777777777778,
              "#fb9f3a"
             ],
             [
              0.8888888888888888,
              "#fdca26"
             ],
             [
              1,
              "#f0f921"
             ]
            ],
            "type": "surface"
           }
          ],
          "table": [
           {
            "cells": {
             "fill": {
              "color": "#EBF0F8"
             },
             "line": {
              "color": "white"
             }
            },
            "header": {
             "fill": {
              "color": "#C8D4E3"
             },
             "line": {
              "color": "white"
             }
            },
            "type": "table"
           }
          ]
         },
         "layout": {
          "annotationdefaults": {
           "arrowcolor": "#2a3f5f",
           "arrowhead": 0,
           "arrowwidth": 1
          },
          "autotypenumbers": "strict",
          "coloraxis": {
           "colorbar": {
            "outlinewidth": 0,
            "ticks": ""
           }
          },
          "colorscale": {
           "diverging": [
            [
             0,
             "#8e0152"
            ],
            [
             0.1,
             "#c51b7d"
            ],
            [
             0.2,
             "#de77ae"
            ],
            [
             0.3,
             "#f1b6da"
            ],
            [
             0.4,
             "#fde0ef"
            ],
            [
             0.5,
             "#f7f7f7"
            ],
            [
             0.6,
             "#e6f5d0"
            ],
            [
             0.7,
             "#b8e186"
            ],
            [
             0.8,
             "#7fbc41"
            ],
            [
             0.9,
             "#4d9221"
            ],
            [
             1,
             "#276419"
            ]
           ],
           "sequential": [
            [
             0,
             "#0d0887"
            ],
            [
             0.1111111111111111,
             "#46039f"
            ],
            [
             0.2222222222222222,
             "#7201a8"
            ],
            [
             0.3333333333333333,
             "#9c179e"
            ],
            [
             0.4444444444444444,
             "#bd3786"
            ],
            [
             0.5555555555555556,
             "#d8576b"
            ],
            [
             0.6666666666666666,
             "#ed7953"
            ],
            [
             0.7777777777777778,
             "#fb9f3a"
            ],
            [
             0.8888888888888888,
             "#fdca26"
            ],
            [
             1,
             "#f0f921"
            ]
           ],
           "sequentialminus": [
            [
             0,
             "#0d0887"
            ],
            [
             0.1111111111111111,
             "#46039f"
            ],
            [
             0.2222222222222222,
             "#7201a8"
            ],
            [
             0.3333333333333333,
             "#9c179e"
            ],
            [
             0.4444444444444444,
             "#bd3786"
            ],
            [
             0.5555555555555556,
             "#d8576b"
            ],
            [
             0.6666666666666666,
             "#ed7953"
            ],
            [
             0.7777777777777778,
             "#fb9f3a"
            ],
            [
             0.8888888888888888,
             "#fdca26"
            ],
            [
             1,
             "#f0f921"
            ]
           ]
          },
          "colorway": [
           "#636efa",
           "#EF553B",
           "#00cc96",
           "#ab63fa",
           "#FFA15A",
           "#19d3f3",
           "#FF6692",
           "#B6E880",
           "#FF97FF",
           "#FECB52"
          ],
          "font": {
           "color": "#2a3f5f"
          },
          "geo": {
           "bgcolor": "white",
           "lakecolor": "white",
           "landcolor": "white",
           "showlakes": true,
           "showland": true,
           "subunitcolor": "#C8D4E3"
          },
          "hoverlabel": {
           "align": "left"
          },
          "hovermode": "closest",
          "mapbox": {
           "style": "light"
          },
          "paper_bgcolor": "white",
          "plot_bgcolor": "white",
          "polar": {
           "angularaxis": {
            "gridcolor": "#EBF0F8",
            "linecolor": "#EBF0F8",
            "ticks": ""
           },
           "bgcolor": "white",
           "radialaxis": {
            "gridcolor": "#EBF0F8",
            "linecolor": "#EBF0F8",
            "ticks": ""
           }
          },
          "scene": {
           "xaxis": {
            "backgroundcolor": "white",
            "gridcolor": "#DFE8F3",
            "gridwidth": 2,
            "linecolor": "#EBF0F8",
            "showbackground": true,
            "ticks": "",
            "zerolinecolor": "#EBF0F8"
           },
           "yaxis": {
            "backgroundcolor": "white",
            "gridcolor": "#DFE8F3",
            "gridwidth": 2,
            "linecolor": "#EBF0F8",
            "showbackground": true,
            "ticks": "",
            "zerolinecolor": "#EBF0F8"
           },
           "zaxis": {
            "backgroundcolor": "white",
            "gridcolor": "#DFE8F3",
            "gridwidth": 2,
            "linecolor": "#EBF0F8",
            "showbackground": true,
            "ticks": "",
            "zerolinecolor": "#EBF0F8"
           }
          },
          "shapedefaults": {
           "line": {
            "color": "#2a3f5f"
           }
          },
          "ternary": {
           "aaxis": {
            "gridcolor": "#DFE8F3",
            "linecolor": "#A2B1C6",
            "ticks": ""
           },
           "baxis": {
            "gridcolor": "#DFE8F3",
            "linecolor": "#A2B1C6",
            "ticks": ""
           },
           "bgcolor": "white",
           "caxis": {
            "gridcolor": "#DFE8F3",
            "linecolor": "#A2B1C6",
            "ticks": ""
           }
          },
          "title": {
           "x": 0.05
          },
          "xaxis": {
           "automargin": true,
           "gridcolor": "#EBF0F8",
           "linecolor": "#EBF0F8",
           "ticks": "",
           "title": {
            "standoff": 15
           },
           "zerolinecolor": "#EBF0F8",
           "zerolinewidth": 2
          },
          "yaxis": {
           "automargin": true,
           "gridcolor": "#EBF0F8",
           "linecolor": "#EBF0F8",
           "ticks": "",
           "title": {
            "standoff": 15
           },
           "zerolinecolor": "#EBF0F8",
           "zerolinewidth": 2
          }
         }
        },
        "title": {
         "text": "Target plot for feature <b>customer_transaction_ratio_by_merchant_name</b> <br><sup>Average target value by different feature values.</sup>",
         "x": 0,
         "xref": "paper"
        },
        "width": 1200,
        "xaxis": {
         "anchor": "y",
         "domain": [
          0,
          1
         ],
         "ticktext": [
          "[-99.0, 0.11)<br><sup><b>[0.0, 11.11)</b></sup>",
          "[0.11, 0.28)<br><sup><b>[11.11, 22.22)</b></sup>",
          "[0.28, 0.49)<br><sup><b>[22.22, 33.33)</b></sup>",
          "[0.49, 0.73)<br><sup><b>[33.33, 44.44)</b></sup>",
          "[0.73, 0.99)<br><sup><b>[44.44, 55.56)</b></sup>",
          "[0.99, 1.04)<br><sup><b>[55.56, 66.67)</b></sup>",
          "[1.04, 1.42)<br><sup><b>[66.67, 77.78)</b></sup>",
          "[1.42, 2.05)<br><sup><b>[77.78, 88.89)</b></sup>",
          "[2.05, 2515.4]<br><sup><b>[88.89, 100.0]</b></sup>"
         ],
         "tickvals": [
          0,
          1,
          2,
          3,
          4,
          5,
          6,
          7,
          8
         ],
         "title": {
          "text": "<b>customer_transaction_ratio_by_merchant_name</b> (value+percentile)"
         }
        },
        "yaxis": {
         "anchor": "x",
         "domain": [
          0,
          0.98
         ],
         "range": [
          0,
          104848.8
         ],
         "title": {
          "text": "count"
         }
        },
        "yaxis2": {
         "anchor": "x",
         "domain": [
          0,
          0.98
         ],
         "overlaying": "y",
         "range": [
          0,
          0.05600750795431135
         ],
         "showgrid": false,
         "side": "right",
         "title": {
          "text": "Average isFraud"
         }
        }
       }
      }
     },
     "metadata": {},
     "output_type": "display_data"
    }
   ],
   "source": [
    "# cus_trans_ratio_by_merchant\n",
    "target_cus_trans_ratio_by_merchant = info_plots.TargetPlot(\n",
    "    df=pdp_data,\n",
    "    feature=\"cus_trans_ratio_by_merchant\",\n",
    "    feature_name=\"customer_transaction_ratio_by_merchant_name\",\n",
    "    target=pdp_target,\n",
    "    num_grid_points=10,\n",
    "    grid_type='percentile',\n",
    "    percentile_range=None,\n",
    "    grid_range=None,\n",
    "    cust_grid_points=None,\n",
    "    show_outliers=False,\n",
    "    endpoint=True,\n",
    ")\n",
    "\n",
    "fig, axes, summary_df = target_cus_trans_ratio_by_merchant.plot(\n",
    "    show_percentile=True,\n",
    "    figsize=None,\n",
    "    dpi=300,\n",
    "    ncols=2,\n",
    "    plot_params=None,\n",
    "    engine='plotly',\n",
    "    template='plotly_white',\n",
    ")\n",
    "fig"
   ]
  },
  {
   "cell_type": "code",
   "execution_count": 1,
   "metadata": {},
   "outputs": [],
   "source": [
    "# In case the PDP plot not showing up, I paste it below"
   ]
  },
  {
   "attachments": {
    "pdp_plot_01.png": {
     "image/png": "[encoded data removed]"
    }
   },
   "cell_type": "markdown",
   "metadata": {},
   "source": [
    "![pdp_plot_01.png](attachment:pdp_plot_01.png)"
   ]
  },
  {
   "cell_type": "code",
   "execution_count": 62,
   "metadata": {},
   "outputs": [
    {
     "data": {
      "text/html": [
       "<div>\n",
       "<style scoped>\n",
       "    .dataframe tbody tr th:only-of-type {\n",
       "        vertical-align: middle;\n",
       "    }\n",
       "\n",
       "    .dataframe tbody tr th {\n",
       "        vertical-align: top;\n",
       "    }\n",
       "\n",
       "    .dataframe thead th {\n",
       "        text-align: right;\n",
       "    }\n",
       "</style>\n",
       "<table border=\"1\" class=\"dataframe\">\n",
       "  <thead>\n",
       "    <tr style=\"text-align: right;\">\n",
       "      <th></th>\n",
       "      <th>x</th>\n",
       "      <th>value</th>\n",
       "      <th>percentile</th>\n",
       "      <th>count</th>\n",
       "      <th>isFraud</th>\n",
       "    </tr>\n",
       "  </thead>\n",
       "  <tbody>\n",
       "    <tr>\n",
       "      <th>0</th>\n",
       "      <td>0</td>\n",
       "      <td>[-99.0, 0.11)</td>\n",
       "      <td>[0.0, 11.11)</td>\n",
       "      <td>87374</td>\n",
       "      <td>0.046673</td>\n",
       "    </tr>\n",
       "    <tr>\n",
       "      <th>1</th>\n",
       "      <td>1</td>\n",
       "      <td>[0.11, 0.28)</td>\n",
       "      <td>[11.11, 22.22)</td>\n",
       "      <td>87374</td>\n",
       "      <td>0.003765</td>\n",
       "    </tr>\n",
       "    <tr>\n",
       "      <th>2</th>\n",
       "      <td>2</td>\n",
       "      <td>[0.28, 0.49)</td>\n",
       "      <td>[22.22, 33.33)</td>\n",
       "      <td>87373</td>\n",
       "      <td>0.006856</td>\n",
       "    </tr>\n",
       "    <tr>\n",
       "      <th>3</th>\n",
       "      <td>3</td>\n",
       "      <td>[0.49, 0.73)</td>\n",
       "      <td>[33.33, 44.44)</td>\n",
       "      <td>87374</td>\n",
       "      <td>0.008767</td>\n",
       "    </tr>\n",
       "    <tr>\n",
       "      <th>4</th>\n",
       "      <td>4</td>\n",
       "      <td>[0.73, 0.99)</td>\n",
       "      <td>[44.44, 55.56)</td>\n",
       "      <td>87373</td>\n",
       "      <td>0.009030</td>\n",
       "    </tr>\n",
       "    <tr>\n",
       "      <th>5</th>\n",
       "      <td>5</td>\n",
       "      <td>[0.99, 1.04)</td>\n",
       "      <td>[55.56, 66.67)</td>\n",
       "      <td>87374</td>\n",
       "      <td>0.002106</td>\n",
       "    </tr>\n",
       "    <tr>\n",
       "      <th>6</th>\n",
       "      <td>6</td>\n",
       "      <td>[1.04, 1.42)</td>\n",
       "      <td>[66.67, 77.78)</td>\n",
       "      <td>87373</td>\n",
       "      <td>0.012349</td>\n",
       "    </tr>\n",
       "    <tr>\n",
       "      <th>7</th>\n",
       "      <td>7</td>\n",
       "      <td>[1.42, 2.05)</td>\n",
       "      <td>[77.78, 88.89)</td>\n",
       "      <td>87374</td>\n",
       "      <td>0.016778</td>\n",
       "    </tr>\n",
       "    <tr>\n",
       "      <th>8</th>\n",
       "      <td>8</td>\n",
       "      <td>[2.05, 2515.4]</td>\n",
       "      <td>[88.89, 100.0]</td>\n",
       "      <td>87374</td>\n",
       "      <td>0.035789</td>\n",
       "    </tr>\n",
       "  </tbody>\n",
       "</table>\n",
       "</div>"
      ],
      "text/plain": [
       "   x           value      percentile  count   isFraud\n",
       "0  0   [-99.0, 0.11)    [0.0, 11.11)  87374  0.046673\n",
       "1  1    [0.11, 0.28)  [11.11, 22.22)  87374  0.003765\n",
       "2  2    [0.28, 0.49)  [22.22, 33.33)  87373  0.006856\n",
       "3  3    [0.49, 0.73)  [33.33, 44.44)  87374  0.008767\n",
       "4  4    [0.73, 0.99)  [44.44, 55.56)  87373  0.009030\n",
       "5  5    [0.99, 1.04)  [55.56, 66.67)  87374  0.002106\n",
       "6  6    [1.04, 1.42)  [66.67, 77.78)  87373  0.012349\n",
       "7  7    [1.42, 2.05)  [77.78, 88.89)  87374  0.016778\n",
       "8  8  [2.05, 2515.4]  [88.89, 100.0]  87374  0.035789"
      ]
     },
     "execution_count": 62,
     "metadata": {},
     "output_type": "execute_result"
    }
   ],
   "source": [
    "summary_df"
   ]
  },
  {
   "cell_type": "markdown",
   "metadata": {},
   "source": [
    "## <font color='blue'>Insight\n",
    "- ### From above result, it shows if it's the first time customer purchase the goods, it's more likely to be fraud.\n",
    "- ### If the transaction amount is 2 times more than the customer itself average spending on this merchant, there's 3.6% fraud rate, which is 2+ times more than overall fraud rate;\n",
    "- ### Once the ratio exceed 1, the fraud rate increase with the increase of transaction ratio "
   ]
  },
  {
   "cell_type": "markdown",
   "metadata": {},
   "source": [
    "## 5.5.2 Credit_used_ratio"
   ]
  },
  {
   "cell_type": "code",
   "execution_count": 63,
   "metadata": {},
   "outputs": [
    {
     "data": {
      "text/plain": [
       "array([1, 5, 3, 6, 4, 2])"
      ]
     },
     "execution_count": 63,
     "metadata": {},
     "output_type": "execute_result"
    }
   ],
   "source": [
    "# # mapping = {\"05\": 1, \"80\": 2, \"02\":3, \"90\": 4, \"09\": 5, \"N/A\":6}\n",
    "\n",
    "# pdp_data['pos_Entry_Mode'].unique()\n"
   ]
  },
  {
   "cell_type": "code",
   "execution_count": 64,
   "metadata": {},
   "outputs": [
    {
     "data": {
      "application/vnd.plotly.v1+json": {
       "config": {
        "plotlyServerURL": "https://plot.ly"
       },
       "data": [
        {
         "hovertemplate": "%{text}",
         "marker": {
          "color": "#5BB573",
          "opacity": 0.5
         },
         "name": "count",
         "text": [
          41362,
          41387,
          41411,
          41386,
          41391,
          41383,
          41390,
          41381,
          41393,
          41353,
          41425,
          41386,
          41390,
          41382,
          41393,
          41387,
          41387,
          41387,
          41389
         ],
         "textposition": "outside",
         "type": "bar",
         "width": 0.4,
         "x": [
          0,
          1,
          2,
          3,
          4,
          5,
          6,
          7,
          8,
          9,
          10,
          11,
          12,
          13,
          14,
          15,
          16,
          17,
          18
         ],
         "xaxis": "x",
         "y": [
          41362,
          41387,
          41411,
          41386,
          41391,
          41383,
          41390,
          41381,
          41393,
          41353,
          41425,
          41386,
          41390,
          41382,
          41393,
          41387,
          41387,
          41387,
          41389
         ],
         "yaxis": "y"
        },
        {
         "hovertemplate": "%{text}",
         "line": {
          "color": "#636EFA"
         },
         "marker": {
          "color": "#636EFA"
         },
         "mode": "lines+markers+text",
         "name": "Average isFraud",
         "text": [
          "0.005",
          "0.006",
          "0.007",
          "0.009",
          "0.01",
          "0.011",
          "0.012",
          "0.014",
          "0.015",
          "0.015",
          "0.017",
          "0.018",
          "0.021",
          "0.021",
          "0.022",
          "0.025",
          "0.025",
          "0.025",
          "0.022"
         ],
         "textposition": "top center",
         "type": "scatter",
         "x": [
          0,
          1,
          2,
          3,
          4,
          5,
          6,
          7,
          8,
          9,
          10,
          11,
          12,
          13,
          14,
          15,
          16,
          17,
          18
         ],
         "xaxis": "x",
         "y": [
          0.004932063246458102,
          0.0059197332495711215,
          0.006978822052111758,
          0.009423476537959696,
          0.009784735812133072,
          0.010874030398956094,
          0.011814447934283644,
          0.01387110026340591,
          0.014543521851520788,
          0.015113776509563998,
          0.01747736873868437,
          0.01824288406707582,
          0.020826286542643152,
          0.02099946836788942,
          0.021960234822312952,
          0.025346123178775944,
          0.02515282576654505,
          0.02469374441249668,
          0.02205900118388944
         ],
         "yaxis": "y2"
        }
       ],
       "layout": {
        "height": 600,
        "showlegend": false,
        "template": {
         "data": {
          "bar": [
           {
            "error_x": {
             "color": "#2a3f5f"
            },
            "error_y": {
             "color": "#2a3f5f"
            },
            "marker": {
             "line": {
              "color": "white",
              "width": 0.5
             },
             "pattern": {
              "fillmode": "overlay",
              "size": 10,
              "solidity": 0.2
             }
            },
            "type": "bar"
           }
          ],
          "barpolar": [
           {
            "marker": {
             "line": {
              "color": "white",
              "width": 0.5
             },
             "pattern": {
              "fillmode": "overlay",
              "size": 10,
              "solidity": 0.2
             }
            },
            "type": "barpolar"
           }
          ],
          "carpet": [
           {
            "aaxis": {
             "endlinecolor": "#2a3f5f",
             "gridcolor": "#C8D4E3",
             "linecolor": "#C8D4E3",
             "minorgridcolor": "#C8D4E3",
             "startlinecolor": "#2a3f5f"
            },
            "baxis": {
             "endlinecolor": "#2a3f5f",
             "gridcolor": "#C8D4E3",
             "linecolor": "#C8D4E3",
             "minorgridcolor": "#C8D4E3",
             "startlinecolor": "#2a3f5f"
            },
            "type": "carpet"
           }
          ],
          "choropleth": [
           {
            "colorbar": {
             "outlinewidth": 0,
             "ticks": ""
            },
            "type": "choropleth"
           }
          ],
          "contour": [
           {
            "colorbar": {
             "outlinewidth": 0,
             "ticks": ""
            },
            "colorscale": [
             [
              0,
              "#0d0887"
             ],
             [
              0.1111111111111111,
              "#46039f"
             ],
             [
              0.2222222222222222,
              "#7201a8"
             ],
             [
              0.3333333333333333,
              "#9c179e"
             ],
             [
              0.4444444444444444,
              "#bd3786"
             ],
             [
              0.5555555555555556,
              "#d8576b"
             ],
             [
              0.6666666666666666,
              "#ed7953"
             ],
             [
              0.7777777777777778,
              "#fb9f3a"
             ],
             [
              0.8888888888888888,
              "#fdca26"
             ],
             [
              1,
              "#f0f921"
             ]
            ],
            "type": "contour"
           }
          ],
          "contourcarpet": [
           {
            "colorbar": {
             "outlinewidth": 0,
             "ticks": ""
            },
            "type": "contourcarpet"
           }
          ],
          "heatmap": [
           {
            "colorbar": {
             "outlinewidth": 0,
             "ticks": ""
            },
            "colorscale": [
             [
              0,
              "#0d0887"
             ],
             [
              0.1111111111111111,
              "#46039f"
             ],
             [
              0.2222222222222222,
              "#7201a8"
             ],
             [
              0.3333333333333333,
              "#9c179e"
             ],
             [
              0.4444444444444444,
              "#bd3786"
             ],
             [
              0.5555555555555556,
              "#d8576b"
             ],
             [
              0.6666666666666666,
              "#ed7953"
             ],
             [
              0.7777777777777778,
              "#fb9f3a"
             ],
             [
              0.8888888888888888,
              "#fdca26"
             ],
             [
              1,
              "#f0f921"
             ]
            ],
            "type": "heatmap"
           }
          ],
          "heatmapgl": [
           {
            "colorbar": {
             "outlinewidth": 0,
             "ticks": ""
            },
            "colorscale": [
             [
              0,
              "#0d0887"
             ],
             [
              0.1111111111111111,
              "#46039f"
             ],
             [
              0.2222222222222222,
              "#7201a8"
             ],
             [
              0.3333333333333333,
              "#9c179e"
             ],
             [
              0.4444444444444444,
              "#bd3786"
             ],
             [
              0.5555555555555556,
              "#d8576b"
             ],
             [
              0.6666666666666666,
              "#ed7953"
             ],
             [
              0.7777777777777778,
              "#fb9f3a"
             ],
             [
              0.8888888888888888,
              "#fdca26"
             ],
             [
              1,
              "#f0f921"
             ]
            ],
            "type": "heatmapgl"
           }
          ],
          "histogram": [
           {
            "marker": {
             "pattern": {
              "fillmode": "overlay",
              "size": 10,
              "solidity": 0.2
             }
            },
            "type": "histogram"
           }
          ],
          "histogram2d": [
           {
            "colorbar": {
             "outlinewidth": 0,
             "ticks": ""
            },
            "colorscale": [
             [
              0,
              "#0d0887"
             ],
             [
              0.1111111111111111,
              "#46039f"
             ],
             [
              0.2222222222222222,
              "#7201a8"
             ],
             [
              0.3333333333333333,
              "#9c179e"
             ],
             [
              0.4444444444444444,
              "#bd3786"
             ],
             [
              0.5555555555555556,
              "#d8576b"
             ],
             [
              0.6666666666666666,
              "#ed7953"
             ],
             [
              0.7777777777777778,
              "#fb9f3a"
             ],
             [
              0.8888888888888888,
              "#fdca26"
             ],
             [
              1,
              "#f0f921"
             ]
            ],
            "type": "histogram2d"
           }
          ],
          "histogram2dcontour": [
           {
            "colorbar": {
             "outlinewidth": 0,
             "ticks": ""
            },
            "colorscale": [
             [
              0,
              "#0d0887"
             ],
             [
              0.1111111111111111,
              "#46039f"
             ],
             [
              0.2222222222222222,
              "#7201a8"
             ],
             [
              0.3333333333333333,
              "#9c179e"
             ],
             [
              0.4444444444444444,
              "#bd3786"
             ],
             [
              0.5555555555555556,
              "#d8576b"
             ],
             [
              0.6666666666666666,
              "#ed7953"
             ],
             [
              0.7777777777777778,
              "#fb9f3a"
             ],
             [
              0.8888888888888888,
              "#fdca26"
             ],
             [
              1,
              "#f0f921"
             ]
            ],
            "type": "histogram2dcontour"
           }
          ],
          "mesh3d": [
           {
            "colorbar": {
             "outlinewidth": 0,
             "ticks": ""
            },
            "type": "mesh3d"
           }
          ],
          "parcoords": [
           {
            "line": {
             "colorbar": {
              "outlinewidth": 0,
              "ticks": ""
             }
            },
            "type": "parcoords"
           }
          ],
          "pie": [
           {
            "automargin": true,
            "type": "pie"
           }
          ],
          "scatter": [
           {
            "fillpattern": {
             "fillmode": "overlay",
             "size": 10,
             "solidity": 0.2
            },
            "type": "scatter"
           }
          ],
          "scatter3d": [
           {
            "line": {
             "colorbar": {
              "outlinewidth": 0,
              "ticks": ""
             }
            },
            "marker": {
             "colorbar": {
              "outlinewidth": 0,
              "ticks": ""
             }
            },
            "type": "scatter3d"
           }
          ],
          "scattercarpet": [
           {
            "marker": {
             "colorbar": {
              "outlinewidth": 0,
              "ticks": ""
             }
            },
            "type": "scattercarpet"
           }
          ],
          "scattergeo": [
           {
            "marker": {
             "colorbar": {
              "outlinewidth": 0,
              "ticks": ""
             }
            },
            "type": "scattergeo"
           }
          ],
          "scattergl": [
           {
            "marker": {
             "colorbar": {
              "outlinewidth": 0,
              "ticks": ""
             }
            },
            "type": "scattergl"
           }
          ],
          "scattermapbox": [
           {
            "marker": {
             "colorbar": {
              "outlinewidth": 0,
              "ticks": ""
             }
            },
            "type": "scattermapbox"
           }
          ],
          "scatterpolar": [
           {
            "marker": {
             "colorbar": {
              "outlinewidth": 0,
              "ticks": ""
             }
            },
            "type": "scatterpolar"
           }
          ],
          "scatterpolargl": [
           {
            "marker": {
             "colorbar": {
              "outlinewidth": 0,
              "ticks": ""
             }
            },
            "type": "scatterpolargl"
           }
          ],
          "scatterternary": [
           {
            "marker": {
             "colorbar": {
              "outlinewidth": 0,
              "ticks": ""
             }
            },
            "type": "scatterternary"
           }
          ],
          "surface": [
           {
            "colorbar": {
             "outlinewidth": 0,
             "ticks": ""
            },
            "colorscale": [
             [
              0,
              "#0d0887"
             ],
             [
              0.1111111111111111,
              "#46039f"
             ],
             [
              0.2222222222222222,
              "#7201a8"
             ],
             [
              0.3333333333333333,
              "#9c179e"
             ],
             [
              0.4444444444444444,
              "#bd3786"
             ],
             [
              0.5555555555555556,
              "#d8576b"
             ],
             [
              0.6666666666666666,
              "#ed7953"
             ],
             [
              0.7777777777777778,
              "#fb9f3a"
             ],
             [
              0.8888888888888888,
              "#fdca26"
             ],
             [
              1,
              "#f0f921"
             ]
            ],
            "type": "surface"
           }
          ],
          "table": [
           {
            "cells": {
             "fill": {
              "color": "#EBF0F8"
             },
             "line": {
              "color": "white"
             }
            },
            "header": {
             "fill": {
              "color": "#C8D4E3"
             },
             "line": {
              "color": "white"
             }
            },
            "type": "table"
           }
          ]
         },
         "layout": {
          "annotationdefaults": {
           "arrowcolor": "#2a3f5f",
           "arrowhead": 0,
           "arrowwidth": 1
          },
          "autotypenumbers": "strict",
          "coloraxis": {
           "colorbar": {
            "outlinewidth": 0,
            "ticks": ""
           }
          },
          "colorscale": {
           "diverging": [
            [
             0,
             "#8e0152"
            ],
            [
             0.1,
             "#c51b7d"
            ],
            [
             0.2,
             "#de77ae"
            ],
            [
             0.3,
             "#f1b6da"
            ],
            [
             0.4,
             "#fde0ef"
            ],
            [
             0.5,
             "#f7f7f7"
            ],
            [
             0.6,
             "#e6f5d0"
            ],
            [
             0.7,
             "#b8e186"
            ],
            [
             0.8,
             "#7fbc41"
            ],
            [
             0.9,
             "#4d9221"
            ],
            [
             1,
             "#276419"
            ]
           ],
           "sequential": [
            [
             0,
             "#0d0887"
            ],
            [
             0.1111111111111111,
             "#46039f"
            ],
            [
             0.2222222222222222,
             "#7201a8"
            ],
            [
             0.3333333333333333,
             "#9c179e"
            ],
            [
             0.4444444444444444,
             "#bd3786"
            ],
            [
             0.5555555555555556,
             "#d8576b"
            ],
            [
             0.6666666666666666,
             "#ed7953"
            ],
            [
             0.7777777777777778,
             "#fb9f3a"
            ],
            [
             0.8888888888888888,
             "#fdca26"
            ],
            [
             1,
             "#f0f921"
            ]
           ],
           "sequentialminus": [
            [
             0,
             "#0d0887"
            ],
            [
             0.1111111111111111,
             "#46039f"
            ],
            [
             0.2222222222222222,
             "#7201a8"
            ],
            [
             0.3333333333333333,
             "#9c179e"
            ],
            [
             0.4444444444444444,
             "#bd3786"
            ],
            [
             0.5555555555555556,
             "#d8576b"
            ],
            [
             0.6666666666666666,
             "#ed7953"
            ],
            [
             0.7777777777777778,
             "#fb9f3a"
            ],
            [
             0.8888888888888888,
             "#fdca26"
            ],
            [
             1,
             "#f0f921"
            ]
           ]
          },
          "colorway": [
           "#636efa",
           "#EF553B",
           "#00cc96",
           "#ab63fa",
           "#FFA15A",
           "#19d3f3",
           "#FF6692",
           "#B6E880",
           "#FF97FF",
           "#FECB52"
          ],
          "font": {
           "color": "#2a3f5f"
          },
          "geo": {
           "bgcolor": "white",
           "lakecolor": "white",
           "landcolor": "white",
           "showlakes": true,
           "showland": true,
           "subunitcolor": "#C8D4E3"
          },
          "hoverlabel": {
           "align": "left"
          },
          "hovermode": "closest",
          "mapbox": {
           "style": "light"
          },
          "paper_bgcolor": "white",
          "plot_bgcolor": "white",
          "polar": {
           "angularaxis": {
            "gridcolor": "#EBF0F8",
            "linecolor": "#EBF0F8",
            "ticks": ""
           },
           "bgcolor": "white",
           "radialaxis": {
            "gridcolor": "#EBF0F8",
            "linecolor": "#EBF0F8",
            "ticks": ""
           }
          },
          "scene": {
           "xaxis": {
            "backgroundcolor": "white",
            "gridcolor": "#DFE8F3",
            "gridwidth": 2,
            "linecolor": "#EBF0F8",
            "showbackground": true,
            "ticks": "",
            "zerolinecolor": "#EBF0F8"
           },
           "yaxis": {
            "backgroundcolor": "white",
            "gridcolor": "#DFE8F3",
            "gridwidth": 2,
            "linecolor": "#EBF0F8",
            "showbackground": true,
            "ticks": "",
            "zerolinecolor": "#EBF0F8"
           },
           "zaxis": {
            "backgroundcolor": "white",
            "gridcolor": "#DFE8F3",
            "gridwidth": 2,
            "linecolor": "#EBF0F8",
            "showbackground": true,
            "ticks": "",
            "zerolinecolor": "#EBF0F8"
           }
          },
          "shapedefaults": {
           "line": {
            "color": "#2a3f5f"
           }
          },
          "ternary": {
           "aaxis": {
            "gridcolor": "#DFE8F3",
            "linecolor": "#A2B1C6",
            "ticks": ""
           },
           "baxis": {
            "gridcolor": "#DFE8F3",
            "linecolor": "#A2B1C6",
            "ticks": ""
           },
           "bgcolor": "white",
           "caxis": {
            "gridcolor": "#DFE8F3",
            "linecolor": "#A2B1C6",
            "ticks": ""
           }
          },
          "title": {
           "x": 0.05
          },
          "xaxis": {
           "automargin": true,
           "gridcolor": "#EBF0F8",
           "linecolor": "#EBF0F8",
           "ticks": "",
           "title": {
            "standoff": 15
           },
           "zerolinecolor": "#EBF0F8",
           "zerolinewidth": 2
          },
          "yaxis": {
           "automargin": true,
           "gridcolor": "#EBF0F8",
           "linecolor": "#EBF0F8",
           "ticks": "",
           "title": {
            "standoff": 15
           },
           "zerolinecolor": "#EBF0F8",
           "zerolinewidth": 2
          }
         }
        },
        "title": {
         "text": "Target plot for feature <b>credit_used_ratio</b> <br><sup>Average target value by different feature values.</sup>",
         "x": 0,
         "xref": "paper"
        },
        "width": 1200,
        "xaxis": {
         "anchor": "y",
         "domain": [
          0,
          1
         ],
         "ticktext": [
          "[0.0, 0.00033)<br><sup><b>[0.0, 5.26)</b></sup>",
          "[0.00033, 0.001)<br><sup><b>[5.26, 10.53)</b></sup>",
          "[0.001, 0.0018)<br><sup><b>[10.53, 15.79)</b></sup>",
          "[0.0018, 0.0028)<br><sup><b>[15.79, 21.05)</b></sup>",
          "[0.0028, 0.0039)<br><sup><b>[21.05, 26.32)</b></sup>",
          "[0.0039, 0.0053)<br><sup><b>[26.32, 31.58)</b></sup>",
          "[0.0053, 0.0068)<br><sup><b>[31.58, 36.84)</b></sup>",
          "[0.0068, 0.0086)<br><sup><b>[36.84, 42.11)</b></sup>",
          "[0.0086, 0.011)<br><sup><b>[42.11, 47.37)</b></sup>",
          "[0.011, 0.013)<br><sup><b>[47.37, 52.63)</b></sup>",
          "[0.013, 0.017)<br><sup><b>[52.63, 57.89)</b></sup>",
          "[0.017, 0.021)<br><sup><b>[57.89, 63.16)</b></sup>",
          "[0.021, 0.026)<br><sup><b>[63.16, 68.42)</b></sup>",
          "[0.026, 0.033)<br><sup><b>[68.42, 73.68)</b></sup>",
          "[0.033, 0.044)<br><sup><b>[73.68, 78.95)</b></sup>",
          "[0.044, 0.062)<br><sup><b>[78.95, 84.21)</b></sup>",
          "[0.062, 0.098)<br><sup><b>[84.21, 89.47)</b></sup>",
          "[0.098, 0.22)<br><sup><b>[89.47, 94.74)</b></sup>",
          "[0.22, 5.92]<br><sup><b>[94.74, 100.0]</b></sup>"
         ],
         "tickvals": [
          0,
          1,
          2,
          3,
          4,
          5,
          6,
          7,
          8,
          9,
          10,
          11,
          12,
          13,
          14,
          15,
          16,
          17,
          18
         ],
         "title": {
          "text": "<b>credit_used_ratio</b> (value+percentile)"
         }
        },
        "yaxis": {
         "anchor": "x",
         "domain": [
          0,
          0.98
         ],
         "range": [
          0,
          49710
         ],
         "title": {
          "text": "count"
         }
        },
        "yaxis2": {
         "anchor": "x",
         "domain": [
          0,
          0.98
         ],
         "overlaying": "y",
         "range": [
          0,
          0.030415347814531132
         ],
         "showgrid": false,
         "side": "right",
         "title": {
          "text": "Average isFraud"
         }
        }
       }
      }
     },
     "metadata": {},
     "output_type": "display_data"
    }
   ],
   "source": [
    "target_credit_used_ratio = info_plots.TargetPlot(\n",
    "    df=pdp_data,\n",
    "    feature=\"credit_used_ratio\",\n",
    "    feature_name=\"credit_used_ratio\",\n",
    "    target=pdp_target,\n",
    "    num_grid_points=20,\n",
    "    grid_type='percentile',\n",
    "    percentile_range=None,\n",
    "    grid_range=None,\n",
    "    cust_grid_points=None,\n",
    "    show_outliers=False,\n",
    "    endpoint=True,\n",
    ")\n",
    "\n",
    "fig, axes, summary_df = target_credit_used_ratio.plot(\n",
    "    show_percentile=True,\n",
    "    figsize=None,\n",
    "    dpi=300,\n",
    "    ncols=2,\n",
    "    plot_params=None,\n",
    "    engine='plotly',\n",
    "    template='plotly_white',\n",
    ")\n",
    "\n",
    "fig"
   ]
  },
  {
   "cell_type": "code",
   "execution_count": null,
   "metadata": {},
   "outputs": [],
   "source": [
    "# In case the PDP plot not showing up, I paste it below"
   ]
  },
  {
   "attachments": {
    "pdp_plot_02.png": {
     "image/png": "[encoded data removed]"
    }
   },
   "cell_type": "markdown",
   "metadata": {},
   "source": [
    "![pdp_plot_02.png](attachment:pdp_plot_02.png)"
   ]
  },
  {
   "cell_type": "code",
   "execution_count": 65,
   "metadata": {},
   "outputs": [
    {
     "data": {
      "text/html": [
       "<div>\n",
       "<style scoped>\n",
       "    .dataframe tbody tr th:only-of-type {\n",
       "        vertical-align: middle;\n",
       "    }\n",
       "\n",
       "    .dataframe tbody tr th {\n",
       "        vertical-align: top;\n",
       "    }\n",
       "\n",
       "    .dataframe thead th {\n",
       "        text-align: right;\n",
       "    }\n",
       "</style>\n",
       "<table border=\"1\" class=\"dataframe\">\n",
       "  <thead>\n",
       "    <tr style=\"text-align: right;\">\n",
       "      <th></th>\n",
       "      <th>x</th>\n",
       "      <th>value</th>\n",
       "      <th>percentile</th>\n",
       "      <th>count</th>\n",
       "      <th>isFraud</th>\n",
       "    </tr>\n",
       "  </thead>\n",
       "  <tbody>\n",
       "    <tr>\n",
       "      <th>0</th>\n",
       "      <td>0</td>\n",
       "      <td>[0.0, 0.00033)</td>\n",
       "      <td>[0.0, 5.26)</td>\n",
       "      <td>41362</td>\n",
       "      <td>0.004932</td>\n",
       "    </tr>\n",
       "    <tr>\n",
       "      <th>1</th>\n",
       "      <td>1</td>\n",
       "      <td>[0.00033, 0.001)</td>\n",
       "      <td>[5.26, 10.53)</td>\n",
       "      <td>41387</td>\n",
       "      <td>0.005920</td>\n",
       "    </tr>\n",
       "    <tr>\n",
       "      <th>2</th>\n",
       "      <td>2</td>\n",
       "      <td>[0.001, 0.0018)</td>\n",
       "      <td>[10.53, 15.79)</td>\n",
       "      <td>41411</td>\n",
       "      <td>0.006979</td>\n",
       "    </tr>\n",
       "    <tr>\n",
       "      <th>3</th>\n",
       "      <td>3</td>\n",
       "      <td>[0.0018, 0.0028)</td>\n",
       "      <td>[15.79, 21.05)</td>\n",
       "      <td>41386</td>\n",
       "      <td>0.009423</td>\n",
       "    </tr>\n",
       "    <tr>\n",
       "      <th>4</th>\n",
       "      <td>4</td>\n",
       "      <td>[0.0028, 0.0039)</td>\n",
       "      <td>[21.05, 26.32)</td>\n",
       "      <td>41391</td>\n",
       "      <td>0.009785</td>\n",
       "    </tr>\n",
       "    <tr>\n",
       "      <th>5</th>\n",
       "      <td>5</td>\n",
       "      <td>[0.0039, 0.0053)</td>\n",
       "      <td>[26.32, 31.58)</td>\n",
       "      <td>41383</td>\n",
       "      <td>0.010874</td>\n",
       "    </tr>\n",
       "    <tr>\n",
       "      <th>6</th>\n",
       "      <td>6</td>\n",
       "      <td>[0.0053, 0.0068)</td>\n",
       "      <td>[31.58, 36.84)</td>\n",
       "      <td>41390</td>\n",
       "      <td>0.011814</td>\n",
       "    </tr>\n",
       "    <tr>\n",
       "      <th>7</th>\n",
       "      <td>7</td>\n",
       "      <td>[0.0068, 0.0086)</td>\n",
       "      <td>[36.84, 42.11)</td>\n",
       "      <td>41381</td>\n",
       "      <td>0.013871</td>\n",
       "    </tr>\n",
       "    <tr>\n",
       "      <th>8</th>\n",
       "      <td>8</td>\n",
       "      <td>[0.0086, 0.011)</td>\n",
       "      <td>[42.11, 47.37)</td>\n",
       "      <td>41393</td>\n",
       "      <td>0.014544</td>\n",
       "    </tr>\n",
       "    <tr>\n",
       "      <th>9</th>\n",
       "      <td>9</td>\n",
       "      <td>[0.011, 0.013)</td>\n",
       "      <td>[47.37, 52.63)</td>\n",
       "      <td>41353</td>\n",
       "      <td>0.015114</td>\n",
       "    </tr>\n",
       "    <tr>\n",
       "      <th>10</th>\n",
       "      <td>10</td>\n",
       "      <td>[0.013, 0.017)</td>\n",
       "      <td>[52.63, 57.89)</td>\n",
       "      <td>41425</td>\n",
       "      <td>0.017477</td>\n",
       "    </tr>\n",
       "    <tr>\n",
       "      <th>11</th>\n",
       "      <td>11</td>\n",
       "      <td>[0.017, 0.021)</td>\n",
       "      <td>[57.89, 63.16)</td>\n",
       "      <td>41386</td>\n",
       "      <td>0.018243</td>\n",
       "    </tr>\n",
       "    <tr>\n",
       "      <th>12</th>\n",
       "      <td>12</td>\n",
       "      <td>[0.021, 0.026)</td>\n",
       "      <td>[63.16, 68.42)</td>\n",
       "      <td>41390</td>\n",
       "      <td>0.020826</td>\n",
       "    </tr>\n",
       "    <tr>\n",
       "      <th>13</th>\n",
       "      <td>13</td>\n",
       "      <td>[0.026, 0.033)</td>\n",
       "      <td>[68.42, 73.68)</td>\n",
       "      <td>41382</td>\n",
       "      <td>0.020999</td>\n",
       "    </tr>\n",
       "    <tr>\n",
       "      <th>14</th>\n",
       "      <td>14</td>\n",
       "      <td>[0.033, 0.044)</td>\n",
       "      <td>[73.68, 78.95)</td>\n",
       "      <td>41393</td>\n",
       "      <td>0.021960</td>\n",
       "    </tr>\n",
       "    <tr>\n",
       "      <th>15</th>\n",
       "      <td>15</td>\n",
       "      <td>[0.044, 0.062)</td>\n",
       "      <td>[78.95, 84.21)</td>\n",
       "      <td>41387</td>\n",
       "      <td>0.025346</td>\n",
       "    </tr>\n",
       "    <tr>\n",
       "      <th>16</th>\n",
       "      <td>16</td>\n",
       "      <td>[0.062, 0.098)</td>\n",
       "      <td>[84.21, 89.47)</td>\n",
       "      <td>41387</td>\n",
       "      <td>0.025153</td>\n",
       "    </tr>\n",
       "    <tr>\n",
       "      <th>17</th>\n",
       "      <td>17</td>\n",
       "      <td>[0.098, 0.22)</td>\n",
       "      <td>[89.47, 94.74)</td>\n",
       "      <td>41387</td>\n",
       "      <td>0.024694</td>\n",
       "    </tr>\n",
       "    <tr>\n",
       "      <th>18</th>\n",
       "      <td>18</td>\n",
       "      <td>[0.22, 5.92]</td>\n",
       "      <td>[94.74, 100.0]</td>\n",
       "      <td>41389</td>\n",
       "      <td>0.022059</td>\n",
       "    </tr>\n",
       "  </tbody>\n",
       "</table>\n",
       "</div>"
      ],
      "text/plain": [
       "     x             value      percentile  count   isFraud\n",
       "0    0    [0.0, 0.00033)     [0.0, 5.26)  41362  0.004932\n",
       "1    1  [0.00033, 0.001)   [5.26, 10.53)  41387  0.005920\n",
       "2    2   [0.001, 0.0018)  [10.53, 15.79)  41411  0.006979\n",
       "3    3  [0.0018, 0.0028)  [15.79, 21.05)  41386  0.009423\n",
       "4    4  [0.0028, 0.0039)  [21.05, 26.32)  41391  0.009785\n",
       "5    5  [0.0039, 0.0053)  [26.32, 31.58)  41383  0.010874\n",
       "6    6  [0.0053, 0.0068)  [31.58, 36.84)  41390  0.011814\n",
       "7    7  [0.0068, 0.0086)  [36.84, 42.11)  41381  0.013871\n",
       "8    8   [0.0086, 0.011)  [42.11, 47.37)  41393  0.014544\n",
       "9    9    [0.011, 0.013)  [47.37, 52.63)  41353  0.015114\n",
       "10  10    [0.013, 0.017)  [52.63, 57.89)  41425  0.017477\n",
       "11  11    [0.017, 0.021)  [57.89, 63.16)  41386  0.018243\n",
       "12  12    [0.021, 0.026)  [63.16, 68.42)  41390  0.020826\n",
       "13  13    [0.026, 0.033)  [68.42, 73.68)  41382  0.020999\n",
       "14  14    [0.033, 0.044)  [73.68, 78.95)  41393  0.021960\n",
       "15  15    [0.044, 0.062)  [78.95, 84.21)  41387  0.025346\n",
       "16  16    [0.062, 0.098)  [84.21, 89.47)  41387  0.025153\n",
       "17  17     [0.098, 0.22)  [89.47, 94.74)  41387  0.024694\n",
       "18  18      [0.22, 5.92]  [94.74, 100.0]  41389  0.022059"
      ]
     },
     "execution_count": 65,
     "metadata": {},
     "output_type": "execute_result"
    }
   ],
   "source": [
    "summary_df"
   ]
  },
  {
   "cell_type": "markdown",
   "metadata": {},
   "source": [
    "## <font color='blue'>Insight\n",
    "- ###  <font color='blue'>With the increased credit_used_ratio, the fraud rate increased, once it pass the range of [4.4% ~ 6.2%], the fraud rate starting descrease \n",
    "- ###  <font color='blue'>It could be the reason that the 5% threshold is the threshold which effect the customer's FICO score, so once it exceed the threshold, the customer become prudent and the fraud rate decrease "
   ]
  },
  {
   "cell_type": "markdown",
   "metadata": {},
   "source": [
    "# 6. Business Suggestion\n",
    "\n",
    "- ### <font color='blue'>After the model has been trained, it's always good to go deep into the result and find meaningful business insight so as to reduce the Fraud rate.\n",
    "\n",
    "- ### <font color='blue'>In this case, I tend to check the statistic distribution of the final probability of both True and False. And analysis the statistic describe of all True Positive, True Negtive, False Positive, False Negtive. And find guidance based on that to take business action so as to improve the efficiency and reduce the Fraud rate at the same time"
   ]
  },
  {
   "cell_type": "code",
   "execution_count": 67,
   "metadata": {},
   "outputs": [
    {
     "data": {
      "text/html": [
       "<div>\n",
       "<style scoped>\n",
       "    .dataframe tbody tr th:only-of-type {\n",
       "        vertical-align: middle;\n",
       "    }\n",
       "\n",
       "    .dataframe tbody tr th {\n",
       "        vertical-align: top;\n",
       "    }\n",
       "\n",
       "    .dataframe thead th {\n",
       "        text-align: right;\n",
       "    }\n",
       "</style>\n",
       "<table border=\"1\" class=\"dataframe\">\n",
       "  <thead>\n",
       "    <tr style=\"text-align: right;\">\n",
       "      <th></th>\n",
       "      <th>index</th>\n",
       "      <th>pred_prob</th>\n",
       "      <th>TruePositive pred_prob</th>\n",
       "      <th>TrueNegative pred_prob</th>\n",
       "      <th>FalsePositive(type I error) pred_prob</th>\n",
       "      <th>FalseNegative(type II error) pred_prob</th>\n",
       "    </tr>\n",
       "  </thead>\n",
       "  <tbody>\n",
       "    <tr>\n",
       "      <th>0</th>\n",
       "      <td>count</td>\n",
       "      <td>196591.000000</td>\n",
       "      <td>1326.000000</td>\n",
       "      <td>192535.000000</td>\n",
       "      <td>937.000000</td>\n",
       "      <td>1793.000000</td>\n",
       "    </tr>\n",
       "    <tr>\n",
       "      <th>1</th>\n",
       "      <td>mean</td>\n",
       "      <td>0.940413</td>\n",
       "      <td>0.928017</td>\n",
       "      <td>0.943381</td>\n",
       "      <td>0.603027</td>\n",
       "      <td>0.807205</td>\n",
       "    </tr>\n",
       "    <tr>\n",
       "      <th>2</th>\n",
       "      <td>std</td>\n",
       "      <td>0.085117</td>\n",
       "      <td>0.144251</td>\n",
       "      <td>0.079618</td>\n",
       "      <td>0.090116</td>\n",
       "      <td>0.125536</td>\n",
       "    </tr>\n",
       "    <tr>\n",
       "      <th>3</th>\n",
       "      <td>min</td>\n",
       "      <td>0.500036</td>\n",
       "      <td>0.500842</td>\n",
       "      <td>0.500051</td>\n",
       "      <td>0.500036</td>\n",
       "      <td>0.501574</td>\n",
       "    </tr>\n",
       "    <tr>\n",
       "      <th>4</th>\n",
       "      <td>25%</td>\n",
       "      <td>0.926627</td>\n",
       "      <td>0.990343</td>\n",
       "      <td>0.929761</td>\n",
       "      <td>0.532549</td>\n",
       "      <td>0.720906</td>\n",
       "    </tr>\n",
       "    <tr>\n",
       "      <th>5</th>\n",
       "      <td>50%</td>\n",
       "      <td>0.975899</td>\n",
       "      <td>0.999115</td>\n",
       "      <td>0.976461</td>\n",
       "      <td>0.577392</td>\n",
       "      <td>0.826239</td>\n",
       "    </tr>\n",
       "    <tr>\n",
       "      <th>6</th>\n",
       "      <td>75%</td>\n",
       "      <td>0.993510</td>\n",
       "      <td>0.999702</td>\n",
       "      <td>0.993513</td>\n",
       "      <td>0.649523</td>\n",
       "      <td>0.910693</td>\n",
       "    </tr>\n",
       "    <tr>\n",
       "      <th>7</th>\n",
       "      <td>max</td>\n",
       "      <td>0.999989</td>\n",
       "      <td>0.999989</td>\n",
       "      <td>0.999986</td>\n",
       "      <td>0.949673</td>\n",
       "      <td>0.997530</td>\n",
       "    </tr>\n",
       "  </tbody>\n",
       "</table>\n",
       "</div>"
      ],
      "text/plain": [
       "   index      pred_prob  TruePositive pred_prob  TrueNegative pred_prob  \\\n",
       "0  count  196591.000000             1326.000000           192535.000000   \n",
       "1   mean       0.940413                0.928017                0.943381   \n",
       "2    std       0.085117                0.144251                0.079618   \n",
       "3    min       0.500036                0.500842                0.500051   \n",
       "4    25%       0.926627                0.990343                0.929761   \n",
       "5    50%       0.975899                0.999115                0.976461   \n",
       "6    75%       0.993510                0.999702                0.993513   \n",
       "7    max       0.999989                0.999989                0.999986   \n",
       "\n",
       "   FalsePositive(type I error) pred_prob  \\\n",
       "0                             937.000000   \n",
       "1                               0.603027   \n",
       "2                               0.090116   \n",
       "3                               0.500036   \n",
       "4                               0.532549   \n",
       "5                               0.577392   \n",
       "6                               0.649523   \n",
       "7                               0.949673   \n",
       "\n",
       "   FalseNegative(type II error) pred_prob  \n",
       "0                             1793.000000  \n",
       "1                                0.807205  \n",
       "2                                0.125536  \n",
       "3                                0.501574  \n",
       "4                                0.720906  \n",
       "5                                0.826239  \n",
       "6                                0.910693  \n",
       "7                                0.997530  "
      ]
     },
     "execution_count": 67,
     "metadata": {},
     "output_type": "execute_result"
    }
   ],
   "source": [
    "#  distribution of the probability\n",
    "test_pred_prob =best_model.predict_proba(X_test.values)\n",
    "data_test['pred_prob'] =np.amax(test_pred_prob,axis=1)\n",
    "data_test['pred_y'] =best_model.predict(X_test.values)\n",
    "\n",
    "a =data_test['pred_prob'].describe().reset_index()\n",
    "\n",
    "# TruePositive\n",
    "b =data_test[(data_test['pred_y']==1) & (data_test['isFraud']==True) ]['pred_prob'].describe().reset_index()\n",
    "b.rename(columns ={'pred_prob':'TruePositive pred_prob'},inplace=True)\n",
    "\n",
    "# FalseNegative\n",
    "c =data_test[(data_test['pred_y']==0) & (data_test['isFraud']==False) ]['pred_prob'].describe().reset_index()\n",
    "c.rename(columns ={'pred_prob':'TrueNegative pred_prob'},inplace=True)\n",
    "\n",
    "#  type I error\n",
    "d =data_test[(data_test['pred_y']==1) & (data_test['isFraud']==False) ]['pred_prob'].describe().reset_index()\n",
    "d.rename(columns ={'pred_prob':'FalsePositive(type I error) pred_prob'},inplace=True)\n",
    "\n",
    "#  type II error\n",
    "e= data_test[(data_test['pred_y']==0) & (data_test['isFraud']==True) ]['pred_prob'].describe().reset_index()\n",
    "e.rename(columns ={'pred_prob':'FalseNegative(type II error) pred_prob'},inplace=True)\n",
    "\n",
    "df_merged = reduce(lambda  left,right: pd.merge(left,right,on=['index'],\n",
    "                                            how='inner'), [a,b,c,d,e])\n",
    "\n",
    "df_merged\n"
   ]
  },
  {
   "cell_type": "code",
   "execution_count": 68,
   "metadata": {},
   "outputs": [
    {
     "data": {
      "text/html": [
       "<div>\n",
       "<style scoped>\n",
       "    .dataframe tbody tr th:only-of-type {\n",
       "        vertical-align: middle;\n",
       "    }\n",
       "\n",
       "    .dataframe tbody tr th {\n",
       "        vertical-align: top;\n",
       "    }\n",
       "\n",
       "    .dataframe thead th {\n",
       "        text-align: right;\n",
       "    }\n",
       "</style>\n",
       "<table border=\"1\" class=\"dataframe\">\n",
       "  <thead>\n",
       "    <tr style=\"text-align: right;\">\n",
       "      <th>isFraud</th>\n",
       "      <th>False</th>\n",
       "      <th>True</th>\n",
       "      <th>precision</th>\n",
       "    </tr>\n",
       "    <tr>\n",
       "      <th>pred_y</th>\n",
       "      <th></th>\n",
       "      <th></th>\n",
       "      <th></th>\n",
       "    </tr>\n",
       "  </thead>\n",
       "  <tbody>\n",
       "    <tr>\n",
       "      <th>0</th>\n",
       "      <td>156438</td>\n",
       "      <td>502</td>\n",
       "      <td>0.996801</td>\n",
       "    </tr>\n",
       "    <tr>\n",
       "      <th>1</th>\n",
       "      <td>0</td>\n",
       "      <td>1027</td>\n",
       "      <td>1.000000</td>\n",
       "    </tr>\n",
       "  </tbody>\n",
       "</table>\n",
       "</div>"
      ],
      "text/plain": [
       "isFraud   False  True  precision\n",
       "pred_y                          \n",
       "0        156438   502   0.996801\n",
       "1             0  1027   1.000000"
      ]
     },
     "metadata": {},
     "output_type": "display_data"
    },
    {
     "data": {
      "text/plain": [
       "0.8035311891185253"
      ]
     },
     "metadata": {},
     "output_type": "display_data"
    }
   ],
   "source": [
    "negeative_thres =0.90\n",
    "positve_thres =0.95\n",
    "\n",
    "negative_condition = (data_test['pred_prob']> negeative_thres) &(data_test['pred_y']==0)\n",
    "positive_condition = (data_test['pred_prob']> positve_thres) &(data_test['pred_y']==1)\n",
    "\n",
    "partial_data = pd.concat([ data_test[negative_condition],data_test[positive_condition]])\n",
    "\n",
    "high_prob =pd.pivot_table(data= partial_data,\n",
    "               index ='pred_y',\n",
    "               columns='isFraud',\n",
    "               values='customerId',\n",
    "               aggfunc='count',\n",
    "               fill_value=0\n",
    "               )\n",
    "\n",
    "high_prob['precision'] =[high_prob.iloc[0][0]/(high_prob.iloc[0][0]+high_prob.iloc[0][1]),\n",
    "                         high_prob.iloc[1][1]/(high_prob.iloc[1][0]+high_prob.iloc[1][1])\n",
    "                         ]\n",
    "\n",
    "display(high_prob)\n",
    "\n",
    "display(len(partial_data)/len(data_test))"
   ]
  },
  {
   "cell_type": "markdown",
   "metadata": {},
   "source": [
    "# <font color='blue'>Business Suggestions to reduce fraud rate\n",
    "\n",
    "## <font color='blue'>1. If the model says the transaction is >95% Fraud, then we could just ban it;\n",
    "## <font color='blue'>2. If the model says the transaction is Fraud, but less then 95%, then we could pending the transaction or send alert notification to customer;\n",
    "## <font color='blue'>3. If the model says the transaction is >90% non-Fraud, we do nothing on these transaction;\n",
    "## <font color='blue'>4. If the model says the tansaction is non-Fraud, but <90%, then we could set transaction threshold or other innormal behavior to decision wether to inform customer or not;"
   ]
  },
  {
   "cell_type": "markdown",
   "metadata": {},
   "source": [
    "# 7. Future Work\n",
    "\n",
    "###  <font color='blue'>1. More features: customer demographic information, like age, education, zipcode;\n",
    "###  <font color='blue'>2. Model side:\n",
    "- ###     Data Spliting: in time (Jan.~ Oct.) model training; out of time (Nov.~ Dec.) validation; \n",
    "- ###     Modeling stacking;\n",
    "\n",
    "### <font color='blue'>3. More PDP Analysis, to get more business insight "
   ]
  },
  {
   "cell_type": "code",
   "execution_count": null,
   "metadata": {},
   "outputs": [],
   "source": []
  }
 ],
 "metadata": {
  "kernelspec": {
   "display_name": "Python 3 (ipykernel)",
   "language": "python",
   "name": "python3"
  },
  "language_info": {
   "codemirror_mode": {
    "name": "ipython",
    "version": 3
   },
   "file_extension": ".py",
   "mimetype": "text/x-python",
   "name": "python",
   "nbconvert_exporter": "python",
   "pygments_lexer": "ipython3",
   "version": "3.9.7"
  }
 },
 "nbformat": 4,
 "nbformat_minor": 2
}
